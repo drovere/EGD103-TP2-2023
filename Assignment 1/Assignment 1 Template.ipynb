{
 "cells": [
  {
   "cell_type": "markdown",
   "id": "70b622f6-dfd2-4d21-8f21-da81975cc735",
   "metadata": {
    "deletable": false,
    "editable": false,
    "tags": []
   },
   "source": [
    "# EGD103 Assignment 1 - The Harvesting Robot\n",
    "In this assignment, you will be applying some tasks involving the programming of a small robot that moves in 2D space. The robot is required to collect 10 objects that appear in a 100 tile x 100 tile grid. The project is inspired by harvesting robots which are becoming increasingly popular in agricultural applications.\n",
    "\n",
    "\n",
    "<img style=\"display: block; margin: 0 auto\" width=\"400\" src=https://howtorobot.com/sites/default/files/2023-03/shutterstock_1995250223.jpg>\n",
    "<p style=\"text-align: center;\"> Source: https://howtorobot.com/expert-insight/harvesting-robots </p>\n",
    "\n",
    "  \n",
    "In order to simplify this programming project, we have placed some restrictions on the robot's motion. The robot is limited to moving one tile on the grid at a time and is limited to moving in four directions: up, down, left and right. Objects can only be placed on grid tiles and will be collected when the robot is on the same tile as the object. You can view the videos uploaded to Canvas to get an idea of what the final product from this project should look like.\n",
    "\n",
    "The assignment is split into three parts of increasing difficulty:\n",
    "* Part 1 gets to write simple functions for the robot. You can complete these using week 1-2 content.\n",
    "* Part 2 gets you to write actions for the robot to perform: locate, move and collect. These require content covered in weeks 1-4.\n",
    "* Part 3 gets you to initialise a board state for the objects and then simulate the robot collecting each object. These require content covered in weeks 1-5.\n",
    "\n",
    "Your solutions may only use the modules that are provided below. No additional modules or libraries are allowed to be imported for this assignment."
   ]
  },
  {
   "cell_type": "code",
   "execution_count": null,
   "id": "9d38bf71-f261-4ada-9b46-b8a810b2c348",
   "metadata": {
    "deletable": false,
    "editable": false,
    "tags": []
   },
   "outputs": [],
   "source": [
    "# Importing allowed modules. You are not permitted to import any other modules for this assignment.\n",
    "import math\n",
    "import random"
   ]
  },
  {
   "cell_type": "markdown",
   "id": "4560bb2e-7cb2-4c3c-bd06-b250cf8404dc",
   "metadata": {
    "deletable": false,
    "editable": false,
    "tags": []
   },
   "source": [
    "## Introduce yourself\n",
    "Before you get started, we would like you to introduce yourself in the markdown cell below. \n",
    "\n",
    "<div style=\"color:#990000\"><b>Task:</b> Insert markdown in the cell below including your name, student number and email address. Also briefly describe any previous programming experience you may have had (if any). Make sure to show some understanding of markdown formatting in your answer."
   ]
  },
  {
   "cell_type": "markdown",
   "id": "d55b8cee-9f8a-4a4f-a917-1e1a167d1cc3",
   "metadata": {},
   "source": []
  },
  {
   "cell_type": "markdown",
   "id": "273c7829-eb76-4a14-8ad7-98ba057ee94c",
   "metadata": {
    "deletable": false,
    "editable": false,
    "tags": []
   },
   "source": [
    "## Part 1: Simple Functions\n",
    "In this section you will be create some simple user-defined functions for the robot.\n",
    "\n",
    "For this assignment we will represent position vectors in Python as 2-element tuples. For example, the tuple (5, 2) would represent the position 5 elements along the x-axis and 2 units up the y-axis. We will create some user-defined functions that can operate on these position tuples."
   ]
  },
  {
   "cell_type": "markdown",
   "id": "6dd75882-b391-45aa-9fb8-3674673b8b12",
   "metadata": {
    "deletable": false,
    "editable": false,
    "tags": []
   },
   "source": [
    "### 1.1 Move up\n",
    "One useful function for our robot is having the ability to move up. This can be done by increasing the y component of the position tuple by 1. This function has already been implemented for you as an example of how you can work with tuples throughout the assignment."
   ]
  },
  {
   "cell_type": "code",
   "execution_count": null,
   "id": "1757339c-24a1-47e6-a1be-abe1157910c9",
   "metadata": {
    "deletable": false,
    "editable": false,
    "tags": []
   },
   "outputs": [],
   "source": [
    "# This has been implemented for you. Do not change it.\n",
    "def move_up(old_position):\n",
    "    (x, y) = old_position # extract x and y components from position tuple\n",
    "    new_position = (x, y + 1) # new position tuple has a y component 1 value higher than before\n",
    "    return new_position"
   ]
  },
  {
   "cell_type": "code",
   "execution_count": null,
   "id": "a50ed91a-2c2e-418b-859b-3f035f3d3405",
   "metadata": {
    "deletable": false,
    "editable": false,
    "tags": []
   },
   "outputs": [],
   "source": [
    "# test case - should return (2, 2)\n",
    "move_up((2,1))"
   ]
  },
  {
   "cell_type": "markdown",
   "id": "f3beb8d6-7c45-473a-b430-51d3e7d090ca",
   "metadata": {
    "deletable": false,
    "editable": false,
    "tags": []
   },
   "source": [
    "### 1.2 Move down\n",
    "We would also like our robot to be able to move down. This can be done by decreasing the y component of the position tuple by 1. Again, this function has already been implemented for you."
   ]
  },
  {
   "cell_type": "code",
   "execution_count": null,
   "id": "138ee7c1-f785-435b-b441-e8ba6c8fca8e",
   "metadata": {
    "deletable": false,
    "editable": false,
    "tags": []
   },
   "outputs": [],
   "source": [
    "# this has been implemented for you. Do not change it.\n",
    "def move_down(old_position):\n",
    "    (x, y) = old_position\n",
    "    new_position = (x, y - 1)\n",
    "    return new_position"
   ]
  },
  {
   "cell_type": "code",
   "execution_count": null,
   "id": "a081079b-c75a-4136-8539-10bc9ff0620a",
   "metadata": {
    "deletable": false,
    "editable": false,
    "tags": []
   },
   "outputs": [],
   "source": [
    "# test case - should return (2,0)\n",
    "move_down((2,1)) "
   ]
  },
  {
   "cell_type": "markdown",
   "id": "00224d78-88bf-4335-b359-ee29d70a5d85",
   "metadata": {
    "deletable": false,
    "editable": false,
    "tags": []
   },
   "source": [
    "### 1.3 Move right\n",
    "Next, we would like our robot to be able to move to the right. This can be done by increasing the x component of the position tuple by 1. You will have to implement this solution yourself! Replace the pass statement provided with your own solution. Hint: the previous two examples should help.\n",
    "\n",
    "<div style=\"color:#990000\"><b>Task:</b> Create a function that accepts a position tuple and outputs the updated position tuple after moving one element to the right. Run is against the test case to ensure it is working correctly."
   ]
  },
  {
   "cell_type": "code",
   "execution_count": null,
   "id": "258d59cf-59fc-4607-a53e-6079c6c41776",
   "metadata": {
    "tags": []
   },
   "outputs": [],
   "source": [
    "def move_right(old_position):\n",
    "    pass"
   ]
  },
  {
   "cell_type": "code",
   "execution_count": null,
   "id": "e6e7f57c-f5db-428a-838d-4d87847d1637",
   "metadata": {
    "deletable": false,
    "editable": false,
    "tags": []
   },
   "outputs": [],
   "source": [
    "# test case - should return (3,1)\n",
    "move_right((2,1)) "
   ]
  },
  {
   "cell_type": "markdown",
   "id": "6be549e8-6a85-4ee6-9ee2-4ace637f1d33",
   "metadata": {
    "deletable": false,
    "editable": false,
    "tags": []
   },
   "source": [
    "### 1.4 Move left\n",
    "The final movement option for the robot is to move left. This can be done by decreasing the x component of the position tuple by 1. \n",
    "\n",
    "<div style=\"color:#990000\"><b>Task:</b> Create a function that accepts a position tuple and outputs the updated position tuple after moving one element to the left. Run is against the test case to ensure it is working correctly."
   ]
  },
  {
   "cell_type": "code",
   "execution_count": null,
   "id": "6b3c40c9-877a-41e8-af9f-a09ef015ae03",
   "metadata": {},
   "outputs": [],
   "source": [
    "def move_left(old_position):\n",
    "    pass"
   ]
  },
  {
   "cell_type": "code",
   "execution_count": null,
   "id": "f9caef0c-b424-494b-b1e2-1755eefceb47",
   "metadata": {
    "deletable": false,
    "editable": false,
    "tags": []
   },
   "outputs": [],
   "source": [
    "# test case - should return (1,1)\n",
    "move_left((2,1)) "
   ]
  },
  {
   "cell_type": "markdown",
   "id": "7da43757-5fae-40f4-a974-ba96ce6269a6",
   "metadata": {
    "deletable": false,
    "editable": false,
    "tags": []
   },
   "source": [
    "### 1.5 Computing Displacement\n",
    "In order to find each object on the board, you will need to compute the displacement between each object and the robot. This can be performed through vector subtraction:\n",
    "$$\\vec{AB} = \\vec{b} - \\vec{a} = \\begin{bmatrix}b_x - a_x\\\\b_y - a_y\\end{bmatrix} $$\n",
    "where:\n",
    "* $\\vec{AB}$ is the displacement vector that points from object A to object B\n",
    "* $\\vec{b}$ is the position vector for object B\n",
    "* $\\vec{a}$ is the position vector for object A\n",
    "\n",
    "<div style=\"color:#990000\"><b>Task:</b> Create a function that accepts two input position tuples: one for the robot and one for the object to be collected. The function should return a tuple of the displacement vector that points from the robot to the object."
   ]
  },
  {
   "cell_type": "code",
   "execution_count": null,
   "id": "3fd2c07a-f45f-4c21-8034-ddc6518061d7",
   "metadata": {
    "tags": []
   },
   "outputs": [],
   "source": [
    "def compute_object_displacement(robot_position, object_position):\n",
    "    pass"
   ]
  },
  {
   "cell_type": "code",
   "execution_count": null,
   "id": "d4a81a43-e427-4017-8ae1-511632341d64",
   "metadata": {
    "deletable": false,
    "editable": false,
    "tags": []
   },
   "outputs": [],
   "source": [
    "# test case 1 - should return (2, 4)\n",
    "compute_object_displacement((1, 2), (3, 6))"
   ]
  },
  {
   "cell_type": "code",
   "execution_count": null,
   "id": "0ca75f88-e240-4eed-bfaa-6b611e975848",
   "metadata": {
    "deletable": false,
    "editable": false,
    "tags": []
   },
   "outputs": [],
   "source": [
    "# test case 2 - should return (2, -9)\n",
    "compute_object_displacement((-2, 4), (0, -5))"
   ]
  },
  {
   "cell_type": "markdown",
   "id": "fd2eedaa-aaa6-4804-bede-45d0540a56be",
   "metadata": {
    "deletable": false,
    "editable": false,
    "tags": []
   },
   "source": [
    "### 1.6 Computing Distance\n",
    "A simple way to ensure the robot collects objects efficiently is to always collect the object that is nearest to the robot. Since the robot can only move up, down, left or right, we can not use standard Euclidean distance as a measure. Instead, we need to use $L_1$ distance (also commonly known as taxicab or Manhattan distance), which is given by:\n",
    "$$ d(\\vec{a},\\vec{b}) = |b_x - a_x| + |b_y - a_y|$$\n",
    "where $d(\\vec{a},\\vec{b})$ is the distance between objects at position $\\vec{a}$ and position $\\vec{b}$\n",
    "\n",
    "More information can be found here if needed: https://en.wikipedia.org/wiki/Taxicab_geometry\n",
    "\n",
    "<div style=\"color:#990000\"><b>Task:</b> Create a function that accepts two input position tuples: one for the robot and one for the object to be collected. The function should return the L1 distance between the two objects."
   ]
  },
  {
   "cell_type": "code",
   "execution_count": null,
   "id": "124fb238-dcda-407e-89a6-2cf8d3de3e0a",
   "metadata": {
    "tags": []
   },
   "outputs": [],
   "source": [
    "def compute_L1_distance(robot_position, object_position):\n",
    "    pass"
   ]
  },
  {
   "cell_type": "code",
   "execution_count": null,
   "id": "a113b68c-e39a-47f6-84a1-843d3e728162",
   "metadata": {
    "deletable": false,
    "editable": false,
    "tags": []
   },
   "outputs": [],
   "source": [
    "# test case 1 - should return 6\n",
    "compute_L1_distance((1, 2), (3, 6))"
   ]
  },
  {
   "cell_type": "code",
   "execution_count": null,
   "id": "60dba8af-1142-4b40-94de-f0c71fb7fb1d",
   "metadata": {
    "deletable": false,
    "editable": false,
    "tags": []
   },
   "outputs": [],
   "source": [
    "# test case 2 - should return 9\n",
    "compute_L1_distance((1, 2), (-2, -4))"
   ]
  },
  {
   "cell_type": "markdown",
   "id": "c541ea33-2b17-4bcc-ba3b-50b23c2a8537",
   "metadata": {
    "deletable": false,
    "editable": false,
    "tags": []
   },
   "source": [
    "## Part 2: Robot Actions\n",
    "In this section you will be writing functions that perform actions for the robot, such as finding the nearest object, moving, and collecting an object.\n",
    "\n",
    "When looking for the nearest object, the robot will have access to every object's position. In Python, this would be represented by storing every object's position in a list. For example, the list [(2, 1), (5, 7), (9, 3)] describes the position of three objects.\n",
    "\n",
    "Make sure to not repeat yourself! You should be calling functions from Part 1 to help you answer these questions."
   ]
  },
  {
   "cell_type": "markdown",
   "id": "e641bfff-e85d-4875-90fd-41d095a9cd67",
   "metadata": {
    "deletable": false,
    "editable": false,
    "tags": []
   },
   "source": [
    "### 2.1 Finding the nearest object\n",
    "One action the robot will need to perform is finding the location of the nearest object. In order to do this, a suggested algorithm is:\n",
    "1. Calculate the distance between each object and the robot, and store these distances in a list. This is an iterative task you should perform with a for loop.\n",
    "2. Find the minimum value that appears in that list of distances.\n",
    "3. Return the object position tuple corresponding to that minimum distance. If there are multiple tuples at that minimum distance, select the first of those to appear in the list (see test cases 2 and 3).\n",
    "\n",
    "<div style=\"color:#990000\"><b>Task:</b> Create a function with two arguments: a robot position tuple and a list of object position tuples. The function should return the object position tuple that is closest to the robot."
   ]
  },
  {
   "cell_type": "code",
   "execution_count": null,
   "id": "6970ecab-7f03-4e55-95c7-204294393640",
   "metadata": {
    "tags": []
   },
   "outputs": [],
   "source": [
    "def find_nearest_object(robot_position, object_positions):\n",
    "    pass"
   ]
  },
  {
   "cell_type": "code",
   "execution_count": null,
   "id": "c25e1fdd-85f0-4bad-9a0d-761245767ec5",
   "metadata": {
    "deletable": false,
    "editable": false,
    "tags": []
   },
   "outputs": [],
   "source": [
    "# test case 1 - should output (2, 1)\n",
    "find_nearest_object((0, 0), [(2, 1), (5, 7), (9, 3)]) "
   ]
  },
  {
   "cell_type": "code",
   "execution_count": null,
   "id": "08d78b61-ef6e-4fae-96c1-46dfffcb81ae",
   "metadata": {
    "deletable": false,
    "editable": false,
    "tags": []
   },
   "outputs": [],
   "source": [
    "# test case 2 - should output (5, 7)\n",
    "find_nearest_object((7, 5), [(2, 1), (5, 7), (9, 3)])"
   ]
  },
  {
   "cell_type": "code",
   "execution_count": null,
   "id": "0b319645-809e-49ae-955f-f7f0c76fbb7b",
   "metadata": {
    "deletable": false,
    "editable": false,
    "tags": []
   },
   "outputs": [],
   "source": [
    "# test case 3 - should output (9, 3)\n",
    "find_nearest_object((7, 5), [(2, 1), (9, 3), (5, 7)])"
   ]
  },
  {
   "cell_type": "markdown",
   "id": "8f4a9b05-dd57-44ec-b0f2-309fb9fb06bb",
   "metadata": {
    "deletable": false,
    "editable": false,
    "tags": []
   },
   "source": [
    "### 2.2 Moving the robot towards target object\n",
    "Once the robot has identified the location of the nearest object, in must then move towards it. You can do this with the following algorithm:\n",
    "1. Compute the displacement $\\vec{d}$ from the robot to the nearest object\n",
    "2. Based on the displacement vector, you need to specify whether to move up, down, left or right. In the event the robot needs to move horizontally and vertically, it should choose the horizontal option. Since you are selecting between different options, you should be utilising an if statement.\n",
    "\n",
    "<div style=\"color:#990000\"><b>Task:</b> Create a function with two arguments: a robot position tuple and a target object position tuple. The function should return the robot position tuple after moving one unit towards the target object, according to the algorithm described above."
   ]
  },
  {
   "cell_type": "code",
   "execution_count": null,
   "id": "7339c590-c4c5-4c33-8cf0-0515c3e3947c",
   "metadata": {
    "tags": []
   },
   "outputs": [],
   "source": [
    "def move_robot(robot_position, target_object_position):\n",
    "    pass"
   ]
  },
  {
   "cell_type": "code",
   "execution_count": null,
   "id": "6f44eac1-a0f7-47d5-8b55-8655c29b71cf",
   "metadata": {
    "deletable": false,
    "editable": false,
    "tags": []
   },
   "outputs": [],
   "source": [
    "# test case 1 - should return (1, 0)\n",
    "closest_object = (5, 7)\n",
    "robot_position = (0, 0)\n",
    "move_robot(robot_position, closest_object)"
   ]
  },
  {
   "cell_type": "code",
   "execution_count": null,
   "id": "2f241a31-5242-48be-a030-0bbce4bf4690",
   "metadata": {
    "deletable": false,
    "editable": false,
    "tags": []
   },
   "outputs": [],
   "source": [
    "# test case 2 - should return (7, 0) \n",
    "closest_object = (5, 7)\n",
    "robot_position = (8, 0)\n",
    "move_robot(robot_position, closest_object)"
   ]
  },
  {
   "cell_type": "code",
   "execution_count": null,
   "id": "c08daf39-b096-4d17-9598-0f2bf3d33720",
   "metadata": {
    "deletable": false,
    "editable": false,
    "tags": []
   },
   "outputs": [],
   "source": [
    "# test case 3 - should return (5, 1) \n",
    "closest_object = (5, 7)\n",
    "robot_position = (5, 0)\n",
    "move_robot(robot_position, closest_object)"
   ]
  },
  {
   "cell_type": "code",
   "execution_count": null,
   "id": "87f704a1-7adf-4689-9277-5bcc94598916",
   "metadata": {
    "deletable": false,
    "editable": false,
    "tags": []
   },
   "outputs": [],
   "source": [
    "# test case 4 - should return (5, 8) \n",
    "closest_object = (5, 7)\n",
    "robot_position = (5, 9)\n",
    "move_robot(robot_position, closest_object)"
   ]
  },
  {
   "cell_type": "markdown",
   "id": "435421c0-b54d-46fc-a03d-fc80d27fdf4d",
   "metadata": {
    "deletable": false,
    "editable": false,
    "tags": []
   },
   "source": [
    "### 2.3 Collecting an object\n",
    "Once the robot is at the same location as the object, it will need to collect the object. This can be done by removing the robot's position from the object positions list. \n",
    "\n",
    "The function should return a new object positions list. Be careful not to update the object positions list in place (see test case 2), otherwise the function won't work properly when simulating the robot in Part 3 of the assignment. If your solution does update in place, consider using the copy method to create a copy of the object positions list before removing anything from it.\n",
    "\n",
    "In the event the robot's position does not appear in the object positions list, the function should return an error.\n",
    "\n",
    "<div style=\"color:#990000\"><b>Task:</b> Create a function below that accepts two inputs: a robot position tuple and a list of object position tuples. It should output an updated list of object positions after the robot has collected the object at its current position.\n"
   ]
  },
  {
   "cell_type": "code",
   "execution_count": null,
   "id": "26595bf4-fb5f-4d44-865d-faf3655f275a",
   "metadata": {
    "tags": []
   },
   "outputs": [],
   "source": [
    "def collect_object(robot_position, object_positions):\n",
    "    pass"
   ]
  },
  {
   "cell_type": "code",
   "execution_count": null,
   "id": "abba0861-1b9a-454f-827b-c65930c46980",
   "metadata": {
    "deletable": false,
    "editable": false,
    "tags": []
   },
   "outputs": [],
   "source": [
    "# test case 1 - should return [(4, 9), (9, 2)]\n",
    "object_positions = [(4, 9), (5, 7), (9, 2)]\n",
    "robot_position = (5, 7)\n",
    "collect_object(robot_position, object_positions)"
   ]
  },
  {
   "cell_type": "code",
   "execution_count": null,
   "id": "52d64155-1d8b-4345-b76d-327cbb12999a",
   "metadata": {
    "deletable": false,
    "editable": false,
    "tags": []
   },
   "outputs": [],
   "source": [
    "# test case 2 - should return [(4, 9), (5, 7), (9, 2)]\n",
    "# ie. the input list was not updated in place\n",
    "object_positions = [(4, 9), (5, 7), (9, 2)]\n",
    "robot_position = (5, 7)\n",
    "collect_object(robot_position, object_positions)\n",
    "object_positions"
   ]
  },
  {
   "cell_type": "code",
   "execution_count": null,
   "id": "433dac72-59b2-4401-bec1-0980830be519",
   "metadata": {
    "deletable": false,
    "editable": false,
    "tags": []
   },
   "outputs": [],
   "source": [
    "# test case 3 - test to see whether code returns error if robot not at an object location\n",
    "# see output string to see whether correct or not\n",
    "object_positions = [(4, 9), (5, 7), (9, 2)]\n",
    "robot_position = (0, 0)\n",
    "message = 'Incorrect. Your code should return an error message.'\n",
    "try:\n",
    "    collect_object(robot_position, object_positions)\n",
    "except:\n",
    "    message = 'Correct. Your code does return an error message.'\n",
    "print(message)"
   ]
  },
  {
   "cell_type": "markdown",
   "id": "b36d3b77-9533-4937-85be-b05edf5642cc",
   "metadata": {
    "deletable": false,
    "editable": false,
    "tags": []
   },
   "source": [
    "## Part 3: Simulating the harvesting robot\n",
    "In this section you will be iterating through the robot actions you programmed in Part 2 in order to collect 10 objects from a 100 x 100 board. Remember not to repeat yourself! Call functions from Part 2 when they are useful."
   ]
  },
  {
   "cell_type": "markdown",
   "id": "ee97a2bf-cb28-419f-b9c9-f2c089465a3c",
   "metadata": {
    "deletable": false,
    "editable": false,
    "tags": []
   },
   "source": [
    "### 3.1 Initialising robot position and object positions\n",
    "Firstly, your code will need to create an initial position for the robot and an initial position list for the 10 objects. \n",
    "\n",
    "The robot should always starts at the coordinate (0, 0).\n",
    "\n",
    "The object locations list needs to contain 10 objects positions. By default, it should ouput the list [(63, 22), (80, 15), (19, 81), (80, 33), (35, 43), (49, 55), (98, 45), (97, 97), (10, 6), (3, 46)] (this has been programmed for you already). If you call the function with randomise set to True, then the function should return a random list of random locations for the 10 objects. Make sure this random list follows the following rules:\n",
    "* the x and y coordinates must always be integer values between 0 and 99 (inclusive)\n",
    "* the list must always contain 10 position tuples, and each position tuple must be unique (ie. you can't place multiple objects at the same location)\n",
    "\n",
    "You should utilise the random module which was imported earlier to assist in randomising the values. Documentation is available here: https://docs.python.org/3/library/random.html.\n",
    "\n",
    "<div style=\"color:#990000\"><b>Task:</b> Create a function that returns the initial robot position and a list of initial object positions as per the instruction above. The function has one optional input that specifies whether to randomise the initial object positions which defaults to False."
   ]
  },
  {
   "cell_type": "code",
   "execution_count": null,
   "id": "b4c83ed0-1ccf-402c-a837-abe5d80ef57e",
   "metadata": {
    "tags": []
   },
   "outputs": [],
   "source": [
    "def initialise_positions(randomise = False):\n",
    "    \n",
    "    # set initial position of robot\n",
    "    robot_position = (0, 0)\n",
    "    \n",
    "    if randomise:\n",
    "        # replace the pass statement with code that randomly positions the 10 objects\n",
    "        pass\n",
    "    else:\n",
    "        object_positions = [(63, 22), (80, 15), (19, 81), (80, 33), (35, 43), (49, 55), (98, 45), (97, 97), (10, 6), (3, 46)]\n",
    "    return robot_position, object_positions"
   ]
  },
  {
   "cell_type": "code",
   "execution_count": null,
   "id": "91749f7f-b88f-4d05-b1b4-6221aec5df94",
   "metadata": {
    "deletable": false,
    "editable": false,
    "tags": []
   },
   "outputs": [],
   "source": [
    "# test case 1 - should work by default\n",
    "robot_position, object_positions = initialise_positions()\n",
    "print(robot_position)\n",
    "print(object_positions)"
   ]
  },
  {
   "cell_type": "code",
   "execution_count": null,
   "id": "25d0c579-9a48-4da4-ad7a-b17d68b418c6",
   "metadata": {
    "deletable": false,
    "editable": false,
    "tags": []
   },
   "outputs": [],
   "source": [
    "# test case 2 - object positions should be random now, and follow the rules discussed earlier.\n",
    "# run this cell multiple times to thoroughly test\n",
    "robot_position, object_positions = initialise_positions(randomise = True)\n",
    "print(robot_position)\n",
    "print(object_positions)"
   ]
  },
  {
   "cell_type": "markdown",
   "id": "ac1c06a2-2657-476d-ba11-b29e7cd7508e",
   "metadata": {
    "deletable": false,
    "editable": false,
    "tags": []
   },
   "source": [
    "### 3.2 Simulating one time step\n",
    "You will now need to write code that simulates one time step of the robot. For simplicity, we will say that moving one space takes one time step and collecting an object also takes one time step.\n",
    "\n",
    "Your code should do the following:\n",
    "1. Find the location of the nearest object\n",
    "2. Based on the location, either\n",
    "    * Move towards the object, or\n",
    "    * Collect the object\n",
    "    \n",
    "<div style=\"color:#990000\"><b>Task:</b> Create a function that accepts two inputs: a robot position tuple and a list of object position tuples. It should return the updated robot position tuple and the updated list of object position tuples after simulating one time step."
   ]
  },
  {
   "cell_type": "code",
   "execution_count": null,
   "id": "f1237ccc-f202-485b-81cb-a876acb0eaea",
   "metadata": {},
   "outputs": [],
   "source": [
    "def simulate_one_time_step(robot_position, object_positions):\n",
    "    pass"
   ]
  },
  {
   "cell_type": "code",
   "execution_count": null,
   "id": "2763b9a2-c408-4b59-928d-ad2fed14dc3a",
   "metadata": {
    "deletable": false,
    "editable": false,
    "tags": []
   },
   "outputs": [],
   "source": [
    "# test case 1 - moving horizontally\n",
    "robot_position, object_positions = simulate_one_time_step((0, 0), [(4, 9), (5, 7), (9, 2)])\n",
    "print(robot_position) # should return (1, 0)\n",
    "print(object_positions) # should return [(4, 9), (5, 7), (9, 2)]"
   ]
  },
  {
   "cell_type": "code",
   "execution_count": null,
   "id": "02c7a643-9895-4cf4-8e94-8f2f4fdc0e42",
   "metadata": {
    "deletable": false,
    "editable": false,
    "tags": []
   },
   "outputs": [],
   "source": [
    "# test case 2 - moving vertically\n",
    "robot_position, object_positions = simulate_one_time_step((9, 0), [(4, 9), (5, 7), (9, 2)])\n",
    "print(robot_position) # should return (9, 1)\n",
    "print(object_positions) # should return [(4, 9), (5, 7), (9, 2)]"
   ]
  },
  {
   "cell_type": "code",
   "execution_count": null,
   "id": "05f231a5-589b-413f-b082-0c32efe094ab",
   "metadata": {
    "deletable": false,
    "editable": false,
    "tags": []
   },
   "outputs": [],
   "source": [
    "# test case 3 - picking up object\n",
    "robot_position, object_positions = simulate_one_time_step((9, 2), [(4, 9), (5, 7), (9, 2)])\n",
    "print(robot_position) # should return (9, 2)\n",
    "print(object_positions) # should return [(4, 9), (5, 7)]"
   ]
  },
  {
   "cell_type": "markdown",
   "id": "52bdd38c-1d36-4c22-9cd0-0e492c735af5",
   "metadata": {
    "deletable": false,
    "editable": false,
    "tags": []
   },
   "source": [
    "### 3.3 Simulate until all objects have been collected\n",
    "Now that you have simulated one time step of the robot, you will iterate through this process to form a complete simulation of the robot collecting all 10 objects. Your code should store the robot position and objects positions in a list after each time step of the simulation.\n",
    "\n",
    "A suggested algorithm is:\n",
    "1. Evaluate the initial robot and object positions and store each of these in a list\n",
    "2. While there are still objects remaining, simulate the next time step and append the new robot position and the new object positions to their respective lists.\n",
    "\n",
    "<div style=\"color:#990000\"><b>Task:</b> Create a function that performs a complete simulation of the robot collecting all 10 objects. The function accepts one optional argument which selects whether the object positions should be randomised (the default is no randomisation). The function returns two outputs: a list of the robot position at each time step, and a list of the object positions at each time step."
   ]
  },
  {
   "cell_type": "code",
   "execution_count": null,
   "id": "01a66b82-6a61-4cf5-acee-7add930c6303",
   "metadata": {},
   "outputs": [],
   "source": [
    "def complete_simulation(randomise = False):\n",
    "    pass"
   ]
  },
  {
   "cell_type": "code",
   "execution_count": null,
   "id": "d8f04eb0-deb6-45f5-a3a5-4830eda0de4c",
   "metadata": {
    "deletable": false,
    "editable": false,
    "tags": []
   },
   "outputs": [],
   "source": [
    "# This function has been implemented for you (do not change it!)\n",
    "\n",
    "import IPython.display\n",
    "import matplotlib.pyplot as plt\n",
    "import matplotlib.animation as animation\n",
    "\n",
    "def visualise(randomise = False):\n",
    "    # Perform simulation from student's code\n",
    "    robot_position_list, object_positions_list = complete_simulation(randomise)\n",
    "    iterations = len(robot_position_list)\n",
    "    \n",
    "    # Create a Plotting surface so that we can visualize the resulting position\n",
    "    fig, ax = plt.subplots()\n",
    "    robot_position = robot_position_list[0]\n",
    "    object_positions = object_positions_list[0]\n",
    "    object_x_coordinates = [ x for (x,y) in object_positions ]\n",
    "    object_y_coordinates = [ y for (x,y) in object_positions ]\n",
    "    \n",
    "    scat = ax.scatter(robot_position[0], robot_position[1], c = \"b\")\n",
    "    scat2 = ax.scatter(object_x_coordinates, object_y_coordinates, c = \"r\", marker = '*')\n",
    "    ax.set_xlim(-0.5, 99.5)\n",
    "    ax.set_ylim(-0.5, 99.5)\n",
    "\n",
    "    # This function performs one time step of the simulation and then updates the plot to show the x,y coordinates of the new positions\n",
    "    def animate(i):\n",
    "        ax.set_title(f't = {i} seconds')\n",
    "        scat.set_offsets(robot_position_list[i])\n",
    "        object_positions = object_positions_list[i]\n",
    "        if object_positions:\n",
    "            scat2.set_offsets(object_positions)\n",
    "        else:\n",
    "            scat2.set_offsets([None,None])\n",
    "\n",
    "        return (scat, scat2)\n",
    "\n",
    "    # We are going to create a video animation of the simulation that runs for 1000 iterations, one video frame per iteration, displayed at 20 frames per second\n",
    "    robot_animation = animation.FuncAnimation(fig, animate, frames=iterations, interval=50)\n",
    "    plt.close(fig)\n",
    "    video = robot_animation.to_html5_video()\n",
    "    html = IPython.display.HTML(video)\n",
    "    IPython.display.display(html)"
   ]
  },
  {
   "cell_type": "code",
   "execution_count": null,
   "id": "bdbac475-be34-44c5-9955-8d0b616a3cb8",
   "metadata": {
    "deletable": false,
    "editable": false,
    "tags": []
   },
   "outputs": [],
   "source": [
    "# test case 1 - this should return an animation of the robot if you answered correctly\n",
    "# it should look the same as the video uploaded to Canvas\n",
    "visualise()"
   ]
  },
  {
   "cell_type": "code",
   "execution_count": null,
   "id": "dbfcd19a-63ed-48d3-886d-27a1a9dc8396",
   "metadata": {
    "deletable": false,
    "editable": false,
    "tags": []
   },
   "outputs": [],
   "source": [
    "# test case 2 - this should also return an animation if correct\n",
    "# object positions should be random in this case\n",
    "visualise(randomise = True)"
   ]
  }
 ],
 "metadata": {
  "kernelspec": {
   "display_name": "Python 3 (ipykernel)",
   "language": "python",
   "name": "python3"
  },
  "language_info": {
   "codemirror_mode": {
    "name": "ipython",
    "version": 3
   },
   "file_extension": ".py",
   "mimetype": "text/x-python",
   "name": "python",
   "nbconvert_exporter": "python",
   "pygments_lexer": "ipython3",
   "version": "3.10.12"
  }
 },
 "nbformat": 4,
 "nbformat_minor": 5
}
