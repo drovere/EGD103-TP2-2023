{
 "cells": [
  {
   "cell_type": "markdown",
   "id": "313d17c2-53ef-4b6a-bcad-6a237ea2528c",
   "metadata": {},
   "source": [
    "# Tutorial 7: Numerical Computing with NumPy\n",
    "In this tutorial we will learn about how NumPy arrays can offer a convenient and efficient approach for numerical computing."
   ]
  },
  {
   "cell_type": "code",
   "execution_count": null,
   "id": "a61f77c4-49dc-4886-bba3-cf7762234a05",
   "metadata": {
    "tags": []
   },
   "outputs": [],
   "source": [
    "import numpy as np\n",
    "import matplotlib.pyplot as plt"
   ]
  },
  {
   "cell_type": "markdown",
   "id": "44fafd56-d2a3-4977-b21c-8b3149529d15",
   "metadata": {},
   "source": [
    "## NumPy basics and element-wise operations"
   ]
  },
  {
   "cell_type": "markdown",
   "id": "c0e26cf7-da2a-4fd3-bea3-d2158973b5b9",
   "metadata": {},
   "source": [
    "### One dimensional array (vector)"
   ]
  },
  {
   "cell_type": "code",
   "execution_count": null,
   "id": "42cde0a1-ff96-4cee-b786-c961d3a48831",
   "metadata": {
    "tags": []
   },
   "outputs": [],
   "source": [
    "# create a list containing all the integers from 0 to 100\n"
   ]
  },
  {
   "cell_type": "code",
   "execution_count": null,
   "id": "cf169cef-5359-45a8-8e0d-b0788c69e38e",
   "metadata": {
    "tags": []
   },
   "outputs": [],
   "source": [
    "# now create a numpy array containing the integers from 0 to 100\n"
   ]
  },
  {
   "cell_type": "code",
   "execution_count": null,
   "id": "2c15f385-a557-4b15-af0b-fcd234a52e95",
   "metadata": {
    "tags": []
   },
   "outputs": [],
   "source": [
    "# you would like to determine the square of each number from 0 to 100 and store them in a sequence (a list or an array is fine)\n",
    "\n",
    "# a) demonstrate how to do this with a list by iterating with a for loop.\n",
    "\n",
    "\n",
    "# b) demonstrate how to do this with an array by using an element-wise operation.\n",
    "\n",
    "\n",
    "# which method is easier?"
   ]
  },
  {
   "cell_type": "code",
   "execution_count": null,
   "id": "7d8d0fd9-40ad-4c1d-a7c6-a7f36450d0ce",
   "metadata": {
    "tags": []
   },
   "outputs": [],
   "source": [
    "# now suppose we wanted to find the cosine of 100 evenly spaced values between 0 and 2*pi\n",
    "\n",
    "# a) create a numpy array of 100 evenly spaced values between 0 and 2*pi\n",
    "\n",
    "\n",
    "# b) use numpy's cos function to find the cosine of each of these numbers\n",
    "\n",
    "\n",
    "# now run the code below to visualise your answer"
   ]
  },
  {
   "cell_type": "code",
   "execution_count": null,
   "id": "829bcd05-3f61-4a70-8e71-6a6833ecd107",
   "metadata": {
    "tags": []
   },
   "outputs": [],
   "source": [
    "# plotting previous answer\n",
    "fig, ax = plt.subplots()\n",
    "ax.plot(x, cos_x)\n",
    "ax.set_title('Plot of $y = cos(x)$')\n",
    "ax.set_xlabel('x')\n",
    "ax.set_ylabel('y')\n",
    "plt.show()"
   ]
  },
  {
   "cell_type": "markdown",
   "id": "92b89a75-8190-4f35-a168-e1606a51257c",
   "metadata": {},
   "source": [
    "### Two dimensional array (matrix)"
   ]
  },
  {
   "cell_type": "code",
   "execution_count": null,
   "id": "10867399-692c-426b-ae1d-476e7e7e38f8",
   "metadata": {
    "tags": []
   },
   "outputs": [],
   "source": [
    "# below is an example 4 x 3 matrix that has been represented with a list of lists.\n",
    "matrix = [[5, 1, 3], [7, 4, 2], [1, 3, 1], [4, 5, 9]]"
   ]
  },
  {
   "cell_type": "code",
   "execution_count": null,
   "id": "27cc6b3f-56a5-44d8-94c6-ac84a7f02aa8",
   "metadata": {
    "tags": []
   },
   "outputs": [],
   "source": [
    "# convert the list of lists above to a numpy array\n"
   ]
  },
  {
   "cell_type": "code",
   "execution_count": null,
   "id": "c9840f4d-ff3c-485f-a09c-e2c5a97558ce",
   "metadata": {
    "tags": []
   },
   "outputs": [],
   "source": [
    "# use the ndim attribute to confirm the matrix has two dimensions\n"
   ]
  },
  {
   "cell_type": "code",
   "execution_count": null,
   "id": "d81818ac-5f52-464c-90d8-66d92c06e719",
   "metadata": {
    "tags": []
   },
   "outputs": [],
   "source": [
    "# use the shape attribute to confirm the dimensions of the matrix are 4 x 3\n"
   ]
  },
  {
   "cell_type": "code",
   "execution_count": null,
   "id": "a5e5055b-51a9-4b1e-b64b-64ce6f80988b",
   "metadata": {
    "tags": []
   },
   "outputs": [],
   "source": [
    "# divide every element of the matrix by 10\n"
   ]
  },
  {
   "cell_type": "markdown",
   "id": "757f23a3-9cc5-4174-8038-51df4ab153a4",
   "metadata": {},
   "source": [
    "## Filtering and Aggregates"
   ]
  },
  {
   "cell_type": "code",
   "execution_count": null,
   "id": "ab515748-8cbc-4e3b-b40b-c9f436ff0897",
   "metadata": {},
   "outputs": [],
   "source": [
    "# below is a numpy array that represents daily minimum and maximum temperatures over the course of a month\n",
    "temperature_data = np.array([[1, 13.3, 25.8],\n",
    "                           [2, 15.1, 23.5],\n",
    "                           [3, 13.1, 20.8],\n",
    "                           [4, 13.1, 22.9],\n",
    "                           [5, 12.1, 23.4],\n",
    "                           [6, 12.7, 19.3],\n",
    "                           [7, 12.4, 21.6],\n",
    "                           [8, 12.2, 22.6],\n",
    "                           [9, 11.8, 22.9],\n",
    "                           [10, 10.3, 23.3],\n",
    "                           [11, 9.9, 27.8],\n",
    "                           [12, 10.1, 26.4],\n",
    "                           [13, 12.1, 29.1],\n",
    "                           [14, 13.1, 27.9],\n",
    "                           [15, 11.3, 26.1],\n",
    "                           [16, 14.5, 23.7],\n",
    "                           [17, 14.7, 24.2],\n",
    "                           [18, 16.7, 25.1],\n",
    "                           [19, 13.4, 22.4],\n",
    "                           [20, 8.7, 23.3],\n",
    "                           [21, 11.1, 24.4],\n",
    "                           [22, 12.4, 25.9],\n",
    "                           [23, 14.0, 28.1],\n",
    "                           [24, 13.6, 24.3],\n",
    "                           [25, 13.2, 25.3],\n",
    "                           [26, 11.8, 24.1],\n",
    "                           [27, 14.2, 24.7],\n",
    "                           [28, 13.4, 24.7],\n",
    "                           [29, 13.2, 25.5],\n",
    "                           [30, 13.7, 25.7]])"
   ]
  },
  {
   "cell_type": "code",
   "execution_count": null,
   "id": "72f68b23-54c1-466b-b394-27eb77ccecd5",
   "metadata": {
    "tags": []
   },
   "outputs": [],
   "source": [
    "# we can access each column of the temperature data by indexing\n",
    "days = temperature_data[:, 0]\n",
    "min_temps = temperature_data[:, 1]\n",
    "max_temps = temperature_data[:, 2]"
   ]
  },
  {
   "cell_type": "code",
   "execution_count": null,
   "id": "d0e9a3c4-5aa6-4e8b-ad5d-25743fa8f7ce",
   "metadata": {
    "tags": []
   },
   "outputs": [],
   "source": [
    "# what was the highest temperature in the month?\n"
   ]
  },
  {
   "cell_type": "code",
   "execution_count": null,
   "id": "2d3b8bd8-3ef4-4bd1-b404-6cfe48605ac5",
   "metadata": {
    "tags": []
   },
   "outputs": [],
   "source": [
    "# what was the average maximum daily temperature for the month?\n"
   ]
  },
  {
   "cell_type": "code",
   "execution_count": null,
   "id": "4183b1a6-3045-47ba-b90f-43d400d4f113",
   "metadata": {
    "tags": []
   },
   "outputs": [],
   "source": [
    "# what is the standard deviation for maximum temperature that month?\n"
   ]
  },
  {
   "cell_type": "code",
   "execution_count": null,
   "id": "4936e3cf-75a4-4280-8961-b6c3265c4d4f",
   "metadata": {
    "tags": []
   },
   "outputs": [],
   "source": [
    "# create a logical array that says whether a day is warm. It should say True (1) for temperatures above 26 degrees and False (0) otherwise\n"
   ]
  },
  {
   "cell_type": "code",
   "execution_count": null,
   "id": "2c809886-320f-4713-ab7d-1019edce48f6",
   "metadata": {
    "tags": []
   },
   "outputs": [],
   "source": [
    "# how many warm days occurred in the month?\n"
   ]
  },
  {
   "cell_type": "code",
   "execution_count": null,
   "id": "593d4b72-43c7-4620-9080-f3b214e02a61",
   "metadata": {
    "tags": []
   },
   "outputs": [],
   "source": [
    "# which days of the month were warm days?\n"
   ]
  },
  {
   "cell_type": "code",
   "execution_count": null,
   "id": "0b825dae-7c28-427c-97d9-fe60a33afa02",
   "metadata": {
    "tags": []
   },
   "outputs": [],
   "source": [
    "# create a logical array that says whether a day is cold. It should say True for minimum temperatures below 10 and False otherwise.\n"
   ]
  },
  {
   "cell_type": "code",
   "execution_count": null,
   "id": "6756574e-2e95-4d9e-b327-ea078c6cc39e",
   "metadata": {
    "tags": []
   },
   "outputs": [],
   "source": [
    "# how many cool days occurred in the month?\n"
   ]
  },
  {
   "cell_type": "code",
   "execution_count": null,
   "id": "283980f3-2f07-4477-a37f-d179d7abe7e4",
   "metadata": {
    "tags": []
   },
   "outputs": [],
   "source": [
    "# which days of the month were either warm or cool?\n"
   ]
  },
  {
   "cell_type": "markdown",
   "id": "b0b7c5be-29a7-473f-ae20-46b22f948d31",
   "metadata": {},
   "source": [
    "## MatPlotLib"
   ]
  },
  {
   "cell_type": "code",
   "execution_count": null,
   "id": "ea437ae4-3d83-4a3e-b2c4-5ee3c9ec7e61",
   "metadata": {},
   "outputs": [],
   "source": [
    "# plot the maximum daily temperatures for the month using a line graph\n",
    "# hint: follow the same structure from the earlier cos function example\n"
   ]
  },
  {
   "cell_type": "code",
   "execution_count": null,
   "id": "07a5e6ff-25b5-4dea-8a2a-d8662e119cea",
   "metadata": {
    "tags": []
   },
   "outputs": [],
   "source": [
    "# repeat for maximum temperatures\n"
   ]
  },
  {
   "cell_type": "code",
   "execution_count": null,
   "id": "1c81edd7-f2cb-4de5-8e72-b3b066a805ac",
   "metadata": {
    "tags": []
   },
   "outputs": [],
   "source": [
    "# now try and plot both graphs on the same set of axes. make the max temperature line red and include a legend.\n"
   ]
  },
  {
   "cell_type": "code",
   "execution_count": null,
   "id": "c643e234-90e8-40b7-9143-2dc0b6a2df43",
   "metadata": {
    "tags": []
   },
   "outputs": [],
   "source": [
    "# now try displaying two graphs on different axes within the same figure. \n",
    "# the graph on the left should be the same graph you just created\n",
    "# the graph on the right should be a scatter plot comparing the daily minimum and maximum temperatures\n"
   ]
  },
  {
   "cell_type": "markdown",
   "id": "5d618154-2b67-487b-b325-9e06b297ed71",
   "metadata": {},
   "source": [
    "## Linear algebra (vectors and matrices)"
   ]
  },
  {
   "cell_type": "markdown",
   "id": "2ea2c596-4ab8-4f06-89a6-043610713ba4",
   "metadata": {},
   "source": [
    "### Vectors"
   ]
  },
  {
   "cell_type": "code",
   "execution_count": null,
   "id": "f9ea08b4-4de9-4ea5-8417-daf2ab541e5a",
   "metadata": {},
   "outputs": [],
   "source": [
    "# two example vectors\n",
    "a = np.array([1, 4, 2])\n",
    "b = np.array([7, 9, 4])"
   ]
  },
  {
   "cell_type": "code",
   "execution_count": null,
   "id": "826bcb06-3640-48b4-a0e6-7ee45e41119f",
   "metadata": {
    "tags": []
   },
   "outputs": [],
   "source": [
    "# calculate a + b\n"
   ]
  },
  {
   "cell_type": "code",
   "execution_count": null,
   "id": "f7cf4c16-cb61-4b70-94c4-0c41fc3dd41d",
   "metadata": {
    "tags": []
   },
   "outputs": [],
   "source": [
    "# calculate a - b\n"
   ]
  },
  {
   "cell_type": "code",
   "execution_count": null,
   "id": "d9f37ecf-1537-4e45-8eb4-382a7b0623e3",
   "metadata": {
    "tags": []
   },
   "outputs": [],
   "source": [
    "# calculate the dot product between a and b\n"
   ]
  },
  {
   "cell_type": "code",
   "execution_count": null,
   "id": "9df6e148-44b2-45ee-9046-45468a5d8e83",
   "metadata": {
    "tags": []
   },
   "outputs": [],
   "source": [
    "# calculate the cross product between a and b\n"
   ]
  },
  {
   "cell_type": "code",
   "execution_count": null,
   "id": "42e944d9-2e33-4a60-ada3-2f64e9616eba",
   "metadata": {
    "tags": []
   },
   "outputs": [],
   "source": [
    "# calculate norm (magnitude) of vector a\n"
   ]
  },
  {
   "cell_type": "markdown",
   "id": "81454001-e24f-45d0-8b30-62af307a39ea",
   "metadata": {},
   "source": [
    "### Matrices "
   ]
  },
  {
   "cell_type": "code",
   "execution_count": null,
   "id": "11518e03-e8f8-437d-b862-7c3253ba1cfd",
   "metadata": {
    "tags": []
   },
   "outputs": [],
   "source": [
    "# two example matrices\n",
    "B = np.array([[1, 2, 3],\n",
    "              [4, 5, 6],\n",
    "              [7, 8, 9]])\n",
    "A = np.array([[5, 2, 1],\n",
    "              [0, 4, 5],\n",
    "              [9, 1, 0]])"
   ]
  },
  {
   "cell_type": "code",
   "execution_count": null,
   "id": "e38fe5ce-43da-41e2-bd07-aedf1fd28c90",
   "metadata": {
    "tags": []
   },
   "outputs": [],
   "source": [
    "# calculate A + B\n"
   ]
  },
  {
   "cell_type": "code",
   "execution_count": null,
   "id": "aa318806-b1df-4b73-ba1f-d169698131fc",
   "metadata": {
    "tags": []
   },
   "outputs": [],
   "source": [
    "# calculate A - B\n"
   ]
  },
  {
   "cell_type": "code",
   "execution_count": null,
   "id": "07bb9088-6484-4ceb-a0bf-e95605463d44",
   "metadata": {
    "tags": []
   },
   "outputs": [],
   "source": [
    "# calculate A x B (matrix multiplication) - note: this is not the same as element-wise multiplication\n"
   ]
  },
  {
   "cell_type": "code",
   "execution_count": null,
   "id": "40cdecd4-2b2b-4e5b-bc52-0c88e8ded9ac",
   "metadata": {
    "tags": []
   },
   "outputs": [],
   "source": [
    "# calculate the determinant of matrix A\n"
   ]
  },
  {
   "cell_type": "code",
   "execution_count": null,
   "id": "5a9acb68-2c86-4e46-800f-8ecba51966cf",
   "metadata": {
    "tags": []
   },
   "outputs": [],
   "source": [
    "# solve the equation Ax = b\n"
   ]
  },
  {
   "cell_type": "code",
   "execution_count": null,
   "id": "5ce29e73-d237-4149-a34c-c96ad7658aa6",
   "metadata": {
    "tags": []
   },
   "outputs": [],
   "source": [
    "# check your answer by calculating the inverse of A times b\n"
   ]
  }
 ],
 "metadata": {
  "kernelspec": {
   "display_name": "Python 3 (ipykernel)",
   "language": "python",
   "name": "python3"
  },
  "language_info": {
   "codemirror_mode": {
    "name": "ipython",
    "version": 3
   },
   "file_extension": ".py",
   "mimetype": "text/x-python",
   "name": "python",
   "nbconvert_exporter": "python",
   "pygments_lexer": "ipython3",
   "version": "3.10.12"
  }
 },
 "nbformat": 4,
 "nbformat_minor": 5
}
