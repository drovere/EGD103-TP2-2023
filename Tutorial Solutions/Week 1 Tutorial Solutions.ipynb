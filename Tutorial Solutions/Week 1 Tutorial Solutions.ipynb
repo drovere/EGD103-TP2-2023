{
 "cells": [
  {
   "cell_type": "markdown",
   "id": "3abd0d2c",
   "metadata": {
    "tags": []
   },
   "source": [
    "# Topic: Python Expressions\n",
    "Writing simple Python expressions to make calculations\n",
    "\n",
    "## Python Concepts: \n",
    "* variables\n",
    "* arithmetic operators\n",
    "* calling built-in functions\n",
    "* accessing modules\n",
    "\n",
    "### Keywords\n",
    "* <code>import</code>\n",
    "\n",
    "### Modules:\n",
    "<code>math</code> [<code>pi</code>, <code>tan</code>, <code>sin</code>, <code>cos</code>, <code>sqrt</code>]\n",
    "\n",
    "---\n",
    "\n"
   ]
  },
  {
   "cell_type": "markdown",
   "id": "0ab6cbb5",
   "metadata": {},
   "source": [
    "<u><b>EXERCISES:</b></u>\n",
    "<br>\n",
    "[JupyterLab Basics](#jupyterlab_basics)\n",
    "<br>\n",
    "\n",
    "[Basic Calculations](#Basic_Calculations):\n",
    "> [Distance Travelled](#distance_travelled)<br>\n",
    "> [Radians to Degrees](#radians_to_degrees)<br>\n",
    "\n",
    "[Algebraic Expressions](#Algebraic_Expressions):\n",
    "> [$5x^3$](#5x^3)<br>\n",
    "> [$4x^2 + 7x^3 - 9x + 5$](#4x^2+7x^3-9x+5)<br>\n",
    "> [$\\sqrt{4x^3}$](#sqrt(4x^3))<br>\n",
    "> [$7\\sqrt{x^{x+1}}$](#7sqrt(x^(x+1)))<br>\n",
    "\n",
    "[Geometry](#Geometry)<br>\n",
    "> [Area of a Triangle](#area_triangle)<br>\n",
    "> [Volume of a Cylinder](#volume_cylinder)<br>\n",
    "> [Length of Hypotenuse](#length_hypotenuse)<br>\n",
    "> [Area of Trapezoid](#area_trapezoid)<br>\n",
    "> [Surface Area of Cone](#surface_area_cone)<br>\n",
    "> [Area of Regular Polygon](#area_regular_polygon)<br>\n",
    "\n",
    "[Errors](#Errors)<br>\n",
    "> [Pythagorean Trig Identity](#pythagorean_trig_identity)<br>\n",
    "> [Debugging Arithmetic Expression](#debugging_arithmetic_expression)<br>\n",
    "> [Debugging Formula](#debugging_formula)<br>\n",
    "\n",
    "[Other Engineering Formulas](#pltw)<br>\n",
    "<hr>"
   ]
  },
  {
   "cell_type": "markdown",
   "id": "4d5bfca0-935a-45f7-be6b-3eeaf0640543",
   "metadata": {
    "tags": []
   },
   "source": [
    "# <a name=\"jupyterlab_basics\"></a>JupyterLab Basics"
   ]
  },
  {
   "cell_type": "markdown",
   "id": "2d89d048-731d-4d79-b865-41fd4394fc48",
   "metadata": {
    "tags": []
   },
   "source": [
    "Each 'cell' in a JupyterLab Notebook can contain one of three content <em>types</em>:\n",
    "* Code\n",
    "* Markdown or\n",
    "* Raw \n",
    "\n",
    "You can change the <em>type</em> by using the dropdown widget on the menu, which display the current <em>type</em> selected.  (Initially \"Markdown\" should be visible.)\n",
    "\n",
    "The result of 'executing' a cell (by either using the 'play' button on the menu (triangle), or by using the key combination Control+ENTER) depends on the cell <em>type</em>.  If it is <strong>Code</strong>, that code is evaluated.  If it is <strong>Markdown</strong>, the text will be displayed according to the markup tags used to format the text. If it is <strong>Raw</strong>, the text will simply be displayed 'as is', ie as plain text.  Notice that, before execution, the contents of cells looks different depending on the selected <em>type</em>.\n",
    "\n",
    "A <em>collapsed</em> cell will show as a large elipses, and can be expanded by clicking on the elipses.  See the tracing exercises below.  To collapse a cell, use the View menu option.\n",
    "\n",
    "##### Markdown\n",
    "You will see that this cell is Markdown, and it contains special markup 'tags' surrounding parts of the text to change the way it is displayed when executed.  To look at those tags, double click on any of the text here.  For example you will see how we have marked up the headings and the bulleted lists, and emphasised some words (with italics and bolding).  To render the cell as we intended, simply execute the cell again.\n",
    "\n",
    "Markdown cells will be used to introduce exercises, supply any useful information/resources and to group related exercises into sections.\n",
    "\n",
    "##### Code\n",
    "Most of your interaction with exercise files like this one will be in Code cells.  Generally there will be some Python comments giving a brief introduction to the exercise, potentially followed by some code, then a description of the task you are to complete.  After writing your solution, execute the cell to evaluate your Python code.  Any result of evaluating your code will be displayed in a new cell below the code.  Anything printed will just appear at the bottom of the current cell.\n",
    "\n",
    "If your code produces an error, read the error message to understand which part of your code is causing the error, and what type of error it is.  This will hopefully be a useful hint for debugging!\n",
    "\n",
    "### Resources:\n",
    "* <a href = \"https://jupyter.org/\">Jupyter Home Page</a> (including links to installation files)\n",
    "* <a href =\"https://jupyterlab.readthedocs.io/en/stable/user/interface.html\">JupyterLab Interface doco</a>\n",
    "* <a href=\"https://www.markdownguide.org/getting-started/\">Markdown - Getting Started</a>\n",
    "* <a href =\"https://www.markdownguide.org/basic-syntax/\">Markdown - Basic Syntax Guide</a>\n",
    "* <a href =\"https://www.ibm.com/docs/en/watson-studio-local/1.2.3?topic=notebooks-markdown-jupyter-cheatsheet\">Markdown for Jupyter Notebooks Cheatsheet</a> (IBM)\n",
    "* <a href=\"https://docs.python.org/3/\">Python3 Documentation</a>\n",
    "\n",
    "<hr>"
   ]
  },
  {
   "cell_type": "markdown",
   "id": "a4682c5d",
   "metadata": {},
   "source": [
    "# <a name=\"Basic_Calculations\"><a> Basic Calculations\n"
   ]
  },
  {
   "cell_type": "markdown",
   "id": "3636ffbd",
   "metadata": {},
   "source": [
    "<a name=\"distance_travelled\"></a>\n",
    "<b>Distance Travelled</b>\n",
    "\n",
    "Using the supplied Python variables, write an expression to calculate the distance travelled in kms using the formula: $distance = speed \\times time$.\n",
    "\n",
    "NB: you will need to convert minutes to hours"
   ]
  },
  {
   "cell_type": "code",
   "execution_count": 1,
   "id": "39ce26df",
   "metadata": {
    "tags": []
   },
   "outputs": [
    {
     "data": {
      "text/plain": [
       "33.333333333333336"
      ]
     },
     "execution_count": 1,
     "metadata": {},
     "output_type": "execute_result"
    }
   ],
   "source": [
    "# Some Python variables\n",
    "speed = 1000 # in kms/hr\n",
    "time = 2 # in minutes\n",
    "\n",
    "# Write your answer here\n",
    "# The result should be 33.333333333333336\n",
    "speed * time / 60"
   ]
  },
  {
   "cell_type": "markdown",
   "id": "d7d71e86",
   "metadata": {},
   "source": [
    "<a name=\"radians_to_degrees\"></a>\n",
    "<b>Radians to Degrees</b>\n",
    "\n",
    "Using the supplied Python variable, write an expression to calculate the angle in degrees, using the formula: $degrees = radians \\times \\frac{180}{\\pi}$."
   ]
  },
  {
   "cell_type": "code",
   "execution_count": 2,
   "id": "1e8c5b7c",
   "metadata": {},
   "outputs": [
    {
     "data": {
      "text/plain": [
       "5729.5779513082325"
      ]
     },
     "execution_count": 2,
     "metadata": {},
     "output_type": "execute_result"
    }
   ],
   "source": [
    "# Import the math module to use pi\n",
    "import math\n",
    "\n",
    "# A Python variable\n",
    "radians = 100\n",
    "\n",
    "# Write your answer here\n",
    "# The result should be 5729.5779513082325\n",
    "radians * 180 / math.pi"
   ]
  },
  {
   "cell_type": "markdown",
   "id": "ef8a5e66-b2c9-49ab-972c-4fbd55d1ac92",
   "metadata": {},
   "source": [
    "<hr>"
   ]
  },
  {
   "cell_type": "markdown",
   "id": "37ab9548",
   "metadata": {},
   "source": [
    "<a name=\"Algebraic_Expressions\"><a>\n",
    "# Algebraic Expressions"
   ]
  },
  {
   "cell_type": "markdown",
   "id": "e9717424-7b60-4ba9-8575-846d1d59d306",
   "metadata": {},
   "source": [
    "We will assign the value 3 to the variable x for use in the following examples\n",
    "(but the expressions will be written the same regardless of the value of variable x)"
   ]
  },
  {
   "cell_type": "code",
   "execution_count": 4,
   "id": "b8ea45a0-97fc-4bcc-960b-634c0d43c36c",
   "metadata": {},
   "outputs": [],
   "source": [
    "# store the value 3 in variable x\n",
    "x = 3"
   ]
  },
  {
   "cell_type": "markdown",
   "id": "eee6aaf5-1ca6-4710-826c-34c7be7dd81a",
   "metadata": {},
   "source": [
    "Write Python expressions for each of the following algebraic expressions:"
   ]
  },
  {
   "cell_type": "markdown",
   "id": "a0cf0983",
   "metadata": {},
   "source": [
    "<a name=\"5x^3\"></a>\n",
    "$5x^3$"
   ]
  },
  {
   "cell_type": "code",
   "execution_count": 5,
   "id": "a2cb1bc2-c0f2-451a-859d-853aa7c238cc",
   "metadata": {},
   "outputs": [
    {
     "data": {
      "text/plain": [
       "135"
      ]
     },
     "execution_count": 5,
     "metadata": {},
     "output_type": "execute_result"
    }
   ],
   "source": [
    "# Write your answer here.\n",
    "# The result should be 135\n",
    "5 * x ** 3"
   ]
  },
  {
   "cell_type": "markdown",
   "id": "a48dd878",
   "metadata": {},
   "source": [
    "<a name=\"4x^2+7x^3-9x+5\"></a>\n",
    "$4x^2 + 7x^3 - 9x + 5$"
   ]
  },
  {
   "cell_type": "code",
   "execution_count": 6,
   "id": "f8caba6f-8a13-4305-a1ca-1cee4b4e1600",
   "metadata": {},
   "outputs": [
    {
     "data": {
      "text/plain": [
       "203"
      ]
     },
     "execution_count": 6,
     "metadata": {},
     "output_type": "execute_result"
    }
   ],
   "source": [
    "# Write your answer here.\n",
    "# The result should be 203\n",
    "4 * x ** 2 + 7 * x ** 3 - 9 * x + 5"
   ]
  },
  {
   "cell_type": "markdown",
   "id": "b7ce0e20",
   "metadata": {},
   "source": [
    "<a name=\"sqrt(4x^3)\"></a>\n",
    "$\\sqrt{4x^3}$"
   ]
  },
  {
   "cell_type": "code",
   "execution_count": 7,
   "id": "ffb3ad12",
   "metadata": {},
   "outputs": [
    {
     "data": {
      "text/plain": [
       "10.392304845413264"
      ]
     },
     "execution_count": 7,
     "metadata": {},
     "output_type": "execute_result"
    }
   ],
   "source": [
    "# Write your answer answer here.\n",
    "# The result should be 10.392304845413264\n",
    "math.sqrt(4 * x ** 3)"
   ]
  },
  {
   "cell_type": "markdown",
   "id": "a2a98197",
   "metadata": {},
   "source": [
    "<a name=\"7sqrt(x^(x+1))\"></a>\n",
    "$7 \\sqrt{x^{x+1}}$"
   ]
  },
  {
   "cell_type": "code",
   "execution_count": 8,
   "id": "beb3765a",
   "metadata": {},
   "outputs": [
    {
     "data": {
      "text/plain": [
       "63.0"
      ]
     },
     "execution_count": 8,
     "metadata": {},
     "output_type": "execute_result"
    }
   ],
   "source": [
    "# Write your answer here.\n",
    "# The result should be 63.0\n",
    "7 * math.sqrt(x ** (x + 1))"
   ]
  },
  {
   "cell_type": "markdown",
   "id": "7c297bf8-b12d-4fe0-9ab3-2f85880d9aa8",
   "metadata": {},
   "source": [
    "<hr>"
   ]
  },
  {
   "cell_type": "markdown",
   "id": "24e6544c",
   "metadata": {},
   "source": [
    "<a name=\"Geometry\"><a>\n",
    "# Geometry\n",
    "\n",
    "Formulas:\n",
    "    <ul>\n",
    "        <li>area of triangle = $\\frac{hb}{2}$</li>\n",
    "        <li>volume of a cylinder = $\\pi r^2h$</li>\n",
    "        <li>hypotenuse = $\\sqrt{a^2 + b^2}$</li>\n",
    "        <li>area of trapezoid = $\\frac{(a + b)}{2} h$</li>\n",
    "        <li>surface area of right circular cone = $\\pi r^2 + \\pi r\\sqrt{r^2 + h^2}$</li>\n",
    "        <li>area of a regular polygon = $n r^2 tan(\\frac{\\pi}{n})$</li>\n",
    "    </ul>"
   ]
  },
  {
   "cell_type": "markdown",
   "id": "adddc2ff",
   "metadata": {},
   "source": [
    "<a name=\"area_triangle\"></a>\n",
    "<b>Calculate the area of a triangle</b>"
   ]
  },
  {
   "cell_type": "code",
   "execution_count": 9,
   "id": "dafaba46",
   "metadata": {},
   "outputs": [
    {
     "data": {
      "text/plain": [
       "12.424999999999999"
      ]
     },
     "execution_count": 9,
     "metadata": {},
     "output_type": "execute_result"
    }
   ],
   "source": [
    "height = 3.5\n",
    "base = 7.1\n",
    "\n",
    "# Write your answer here.\n",
    "# The result should be 12.424999999999999\n",
    "0.5 * base * height"
   ]
  },
  {
   "cell_type": "markdown",
   "id": "098971b6",
   "metadata": {},
   "source": [
    "<a name=\"volume_cylinder\"></a>\n",
    "<b>Calculate the volume of a cylinder</b>"
   ]
  },
  {
   "cell_type": "code",
   "execution_count": 10,
   "id": "db1e9d11",
   "metadata": {},
   "outputs": [
    {
     "data": {
      "text/plain": [
       "42.725660088821186"
      ]
     },
     "execution_count": 10,
     "metadata": {},
     "output_type": "execute_result"
    }
   ],
   "source": [
    "radius = 2\n",
    "height = 3.4\n",
    "\n",
    "# Write your answer here.\n",
    "# The result should be 42.725660088821186\n",
    "math.pi * radius ** 2 * height"
   ]
  },
  {
   "cell_type": "markdown",
   "id": "308a435f",
   "metadata": {},
   "source": [
    "<a name=\"length_hypotenuse\"></a>\n",
    "<b>Calculate the length of the hypotenuse of a triangle</b>"
   ]
  },
  {
   "cell_type": "code",
   "execution_count": 11,
   "id": "914ebc0c",
   "metadata": {},
   "outputs": [
    {
     "data": {
      "text/plain": [
       "20.582186472773003"
      ]
     },
     "execution_count": 11,
     "metadata": {},
     "output_type": "execute_result"
    }
   ],
   "source": [
    "side_a = 18.3\n",
    "side_b = 9.42\n",
    "\n",
    "# Write your answer here.\n",
    "# The result should be 20.582186472773003\n",
    "math.sqrt(side_a ** 2 + side_b ** 2)"
   ]
  },
  {
   "cell_type": "markdown",
   "id": "37b7c02a",
   "metadata": {},
   "source": [
    "<a name=\"area_trapezoid\"></a>\n",
    "<b>Calculate the area of a trapezoid</b> "
   ]
  },
  {
   "cell_type": "code",
   "execution_count": 12,
   "id": "81d9974f",
   "metadata": {},
   "outputs": [
    {
     "data": {
      "text/plain": [
       "37.315659999999994"
      ]
     },
     "execution_count": 12,
     "metadata": {},
     "output_type": "execute_result"
    }
   ],
   "source": [
    "base_a = 3.112\n",
    "base_b = 5.0001\n",
    "height = 9.2\n",
    "\n",
    "# Write your answer here.\n",
    "# The result should be 37.315659999999994\n",
    "0.5 * (base_a + base_b) * height"
   ]
  },
  {
   "cell_type": "markdown",
   "id": "c7786519",
   "metadata": {},
   "source": [
    "<a name=\"surface_area_cone\"></a>\n",
    "<b>Calculate the surface area of cone</b>"
   ]
  },
  {
   "cell_type": "code",
   "execution_count": 13,
   "id": "009b2dc5",
   "metadata": {},
   "outputs": [
    {
     "data": {
      "text/plain": [
       "108.79967207790783"
      ]
     },
     "execution_count": 13,
     "metadata": {},
     "output_type": "execute_result"
    }
   ],
   "source": [
    "radius = 3\n",
    "height = 8\n",
    "\n",
    "# Write your answer here.\n",
    "# The result should be 108.79967207790783\n",
    "math.pi * radius ** 2 + math.pi * radius * math.sqrt(radius ** 2 + height ** 2)"
   ]
  },
  {
   "cell_type": "markdown",
   "id": "6c8e474b",
   "metadata": {},
   "source": [
    "<a name=\"area_regular_polygon\"></a>\n",
    "<b>Calculate the area of a regular polygon</b>"
   ]
  },
  {
   "cell_type": "code",
   "execution_count": 14,
   "id": "2eacffa9",
   "metadata": {},
   "outputs": [
    {
     "data": {
      "text/plain": [
       "198.92734416786783"
      ]
     },
     "execution_count": 14,
     "metadata": {},
     "output_type": "execute_result"
    }
   ],
   "source": [
    "number_sides = 5\n",
    "radius = 7.4\n",
    "\n",
    "# Write your answer here.\n",
    "# The result should be 198.92734416786783\n",
    "number_sides * radius ** 2 * math.tan(math.pi / number_sides)"
   ]
  },
  {
   "cell_type": "markdown",
   "id": "2457d554-3baf-4261-bcf6-8356c69d3f4b",
   "metadata": {},
   "source": [
    "<hr>"
   ]
  },
  {
   "cell_type": "markdown",
   "id": "56ba2463-5e25-46e7-8d38-eaa03a6198e7",
   "metadata": {},
   "source": [
    "<a name=\"Errors\"><a> \n",
    "# Errors   \n",
    "\n",
    "We often encounter errors when programming in Python. In python, there are two main types of errors:\n",
    "* Syntax errors: These occur when invalid syntax (language) is used to describe a task. Python will provide a clear error message if there is a syntax error.\n",
    "* Semantic errors: These occur when an incorrect process has been instructed (eg. telling someone to turn left, when they were supposed to turn right). Python cannot detect these errors, so it is up to the programmer to properly test their code for any semantic errors."
   ]
  },
  {
   "cell_type": "markdown",
   "id": "ed8fa591",
   "metadata": {},
   "source": [
    "<a name=\"pythagorean_trig_identity\"></a>\n",
    "<b>Debugging - Pythagorean trigonometric identity</b> \n",
    "<br/>    \n",
    "Does:\n",
    "    $sin ^2(x) + cos ^ 2(x)$ equal $1?$\n",
    "    "
   ]
  },
  {
   "cell_type": "code",
   "execution_count": 15,
   "id": "92535de7",
   "metadata": {},
   "outputs": [
    {
     "ename": "SyntaxError",
     "evalue": "cannot assign to expression here. Maybe you meant '==' instead of '='? (2454702697.py, line 5)",
     "output_type": "error",
     "traceback": [
      "\u001b[0;36m  Cell \u001b[0;32mIn[15], line 5\u001b[0;36m\u001b[0m\n\u001b[0;31m    sin**2(x) + cos**2(x) = 1\u001b[0m\n\u001b[0m    ^\u001b[0m\n\u001b[0;31mSyntaxError\u001b[0m\u001b[0;31m:\u001b[0m cannot assign to expression here. Maybe you meant '==' instead of '='?\n"
     ]
    }
   ],
   "source": [
    "# Find and fix the errors in the following code\n",
    "\n",
    "x = math.pi / 4\n",
    "\n",
    "sin**2(x) + cos**2(x) = 1"
   ]
  },
  {
   "cell_type": "code",
   "execution_count": 16,
   "id": "40fceb17-f406-4aa4-bc3c-ef7a730c4036",
   "metadata": {
    "tags": []
   },
   "outputs": [
    {
     "name": "stderr",
     "output_type": "stream",
     "text": [
      "<>:4: SyntaxWarning: 'int' object is not callable; perhaps you missed a comma?\n",
      "<>:4: SyntaxWarning: 'int' object is not callable; perhaps you missed a comma?\n",
      "<>:4: SyntaxWarning: 'int' object is not callable; perhaps you missed a comma?\n",
      "<>:4: SyntaxWarning: 'int' object is not callable; perhaps you missed a comma?\n",
      "/tmp/ipykernel_116/654908932.py:4: SyntaxWarning: 'int' object is not callable; perhaps you missed a comma?\n",
      "  sin**2(x) + cos**2(x) == 1\n",
      "/tmp/ipykernel_116/654908932.py:4: SyntaxWarning: 'int' object is not callable; perhaps you missed a comma?\n",
      "  sin**2(x) + cos**2(x) == 1\n",
      "/tmp/ipykernel_116/654908932.py:4: SyntaxWarning: 'int' object is not callable; perhaps you missed a comma?\n",
      "  sin**2(x) + cos**2(x) == 1\n",
      "/tmp/ipykernel_116/654908932.py:4: SyntaxWarning: 'int' object is not callable; perhaps you missed a comma?\n",
      "  sin**2(x) + cos**2(x) == 1\n",
      "/tmp/ipykernel_116/654908932.py:4: SyntaxWarning: 'int' object is not callable; perhaps you missed a comma?\n",
      "  sin**2(x) + cos**2(x) == 1\n",
      "/tmp/ipykernel_116/654908932.py:4: SyntaxWarning: 'int' object is not callable; perhaps you missed a comma?\n",
      "  sin**2(x) + cos**2(x) == 1\n"
     ]
    },
    {
     "ename": "NameError",
     "evalue": "name 'sin' is not defined",
     "output_type": "error",
     "traceback": [
      "\u001b[0;31m---------------------------------------------------------------------------\u001b[0m",
      "\u001b[0;31mNameError\u001b[0m                                 Traceback (most recent call last)",
      "Cell \u001b[0;32mIn[16], line 4\u001b[0m\n\u001b[1;32m      1\u001b[0m \u001b[38;5;66;03m# There are multiple errors in this example. Let's fix them one at a time so you understand how to interpret errors in Python.\u001b[39;00m\n\u001b[1;32m      2\u001b[0m \u001b[38;5;66;03m# The first error message suggests there is a syntax error regarding assignment (use of the = operator). \u001b[39;00m\n\u001b[1;32m      3\u001b[0m \u001b[38;5;66;03m# In this example, we don't want to assign. We want to check equality. Because of this, we need the == operator as suggested in the error message.\u001b[39;00m\n\u001b[0;32m----> 4\u001b[0m \u001b[43msin\u001b[49m\u001b[38;5;241m*\u001b[39m\u001b[38;5;241m*\u001b[39m\u001b[38;5;241m2\u001b[39m(x) \u001b[38;5;241m+\u001b[39m cos\u001b[38;5;241m*\u001b[39m\u001b[38;5;241m*\u001b[39m\u001b[38;5;241m2\u001b[39m(x) \u001b[38;5;241m==\u001b[39m \u001b[38;5;241m1\u001b[39m\n",
      "\u001b[0;31mNameError\u001b[0m: name 'sin' is not defined"
     ]
    }
   ],
   "source": [
    "# There are multiple errors in this example. Let's fix them one at a time so you understand how to interpret error messages in Python.\n",
    "# The first error message suggests there is a syntax error regarding assignment (use of the = operator). \n",
    "# In this example, we don't want to assign. We want to check equality. Because of this, we need the == operator as suggested in the error message.\n",
    "sin**2(x) + cos**2(x) == 1"
   ]
  },
  {
   "cell_type": "code",
   "execution_count": 17,
   "id": "f9271e30-d7bd-4e98-9932-30c5dd16c298",
   "metadata": {
    "tags": []
   },
   "outputs": [
    {
     "name": "stderr",
     "output_type": "stream",
     "text": [
      "<>:3: SyntaxWarning: 'int' object is not callable; perhaps you missed a comma?\n",
      "<>:3: SyntaxWarning: 'int' object is not callable; perhaps you missed a comma?\n",
      "<>:3: SyntaxWarning: 'int' object is not callable; perhaps you missed a comma?\n",
      "<>:3: SyntaxWarning: 'int' object is not callable; perhaps you missed a comma?\n",
      "/tmp/ipykernel_116/185267796.py:3: SyntaxWarning: 'int' object is not callable; perhaps you missed a comma?\n",
      "  math.sin**2(x) + math.cos**2(x) == 1\n",
      "/tmp/ipykernel_116/185267796.py:3: SyntaxWarning: 'int' object is not callable; perhaps you missed a comma?\n",
      "  math.sin**2(x) + math.cos**2(x) == 1\n",
      "/tmp/ipykernel_116/185267796.py:3: SyntaxWarning: 'int' object is not callable; perhaps you missed a comma?\n",
      "  math.sin**2(x) + math.cos**2(x) == 1\n",
      "/tmp/ipykernel_116/185267796.py:3: SyntaxWarning: 'int' object is not callable; perhaps you missed a comma?\n",
      "  math.sin**2(x) + math.cos**2(x) == 1\n",
      "/tmp/ipykernel_116/185267796.py:3: SyntaxWarning: 'int' object is not callable; perhaps you missed a comma?\n",
      "  math.sin**2(x) + math.cos**2(x) == 1\n",
      "/tmp/ipykernel_116/185267796.py:3: SyntaxWarning: 'int' object is not callable; perhaps you missed a comma?\n",
      "  math.sin**2(x) + math.cos**2(x) == 1\n",
      "/tmp/ipykernel_116/185267796.py:3: SyntaxWarning: 'int' object is not callable; perhaps you missed a comma?\n",
      "  math.sin**2(x) + math.cos**2(x) == 1\n",
      "/tmp/ipykernel_116/185267796.py:3: SyntaxWarning: 'int' object is not callable; perhaps you missed a comma?\n",
      "  math.sin**2(x) + math.cos**2(x) == 1\n"
     ]
    },
    {
     "ename": "TypeError",
     "evalue": "'int' object is not callable",
     "output_type": "error",
     "traceback": [
      "\u001b[0;31m---------------------------------------------------------------------------\u001b[0m",
      "\u001b[0;31mTypeError\u001b[0m                                 Traceback (most recent call last)",
      "Cell \u001b[0;32mIn[17], line 3\u001b[0m\n\u001b[1;32m      1\u001b[0m \u001b[38;5;66;03m# We now see a different error message appear. It suggests that the name sin isn't defined.\u001b[39;00m\n\u001b[1;32m      2\u001b[0m \u001b[38;5;66;03m# This is because sin is located in the math module. We need to call using math.sin and math.cos.\u001b[39;00m\n\u001b[0;32m----> 3\u001b[0m math\u001b[38;5;241m.\u001b[39msin\u001b[38;5;241m*\u001b[39m\u001b[38;5;241m*\u001b[39m\u001b[38;5;241;43m2\u001b[39;49m\u001b[43m(\u001b[49m\u001b[43mx\u001b[49m\u001b[43m)\u001b[49m \u001b[38;5;241m+\u001b[39m math\u001b[38;5;241m.\u001b[39mcos\u001b[38;5;241m*\u001b[39m\u001b[38;5;241m*\u001b[39m\u001b[38;5;241m2\u001b[39m(x) \u001b[38;5;241m==\u001b[39m \u001b[38;5;241m1\u001b[39m\n",
      "\u001b[0;31mTypeError\u001b[0m: 'int' object is not callable"
     ]
    }
   ],
   "source": [
    "# We now see a different error message appear. It suggests that the name sin isn't defined.\n",
    "# This is because the sin function is located in the math module. We need to call using math.sin. Same applies for the cos function.\n",
    "math.sin**2(x) + math.cos**2(x) == 1"
   ]
  },
  {
   "cell_type": "code",
   "execution_count": 18,
   "id": "36980eab-452a-4925-8c94-e3a3bcc7b9d3",
   "metadata": {
    "tags": []
   },
   "outputs": [
    {
     "data": {
      "text/plain": [
       "False"
      ]
     },
     "execution_count": 18,
     "metadata": {},
     "output_type": "execute_result"
    }
   ],
   "source": [
    "# We get another error message after that correction. Now we get a message stating an integer (2) is not callable. \n",
    "# We need to call the sin function, not the integer 2. Same for the cos function also.\n",
    "math.sin(x) ** 2 + math.cos(x) ** 2 == 1"
   ]
  },
  {
   "cell_type": "code",
   "execution_count": 19,
   "id": "3468847a-face-4357-acbd-226e5fd96a1e",
   "metadata": {
    "tags": []
   },
   "outputs": [
    {
     "data": {
      "text/plain": [
       "True"
      ]
     },
     "execution_count": 19,
     "metadata": {},
     "output_type": "execute_result"
    }
   ],
   "source": [
    "# Finally we don't have an error message! Our result here is unexpected though. We have entered the Pythagorian identity, which is\n",
    "# true for any input angle. The reason we get an error is due to floating point arithmetic (essentially rounding errors) from the computer.\n",
    "# For this reason, we often use the isclose function in the math module to compare equality.\n",
    "# This function checks whether two values are within a relative tolerance of 1e-09 from one another.\n",
    "math.isclose(math.sin(x) ** 2 + math.cos(x) ** 2, 1)"
   ]
  },
  {
   "cell_type": "markdown",
   "id": "53dc6666",
   "metadata": {},
   "source": [
    "<a name=\"debugging_arithmetic_expression\"></a>\n",
    "<b>Debugging Arthimetic Expression</b>\n",
    "\n",
    "The expression below is well formed, and looks like it should work, but doesn't. Before you run the code, try to determine what the issue is. Then evaluate the expression, and read the error message."
   ]
  },
  {
   "cell_type": "code",
   "execution_count": 20,
   "id": "9d497237",
   "metadata": {},
   "outputs": [
    {
     "ename": "ZeroDivisionError",
     "evalue": "division by zero",
     "output_type": "error",
     "traceback": [
      "\u001b[0;31m---------------------------------------------------------------------------\u001b[0m",
      "\u001b[0;31mZeroDivisionError\u001b[0m                         Traceback (most recent call last)",
      "Cell \u001b[0;32mIn[20], line 3\u001b[0m\n\u001b[1;32m      1\u001b[0m \u001b[38;5;66;03m# Find and fix the errors in the following code\u001b[39;00m\n\u001b[0;32m----> 3\u001b[0m \u001b[43m(\u001b[49m\u001b[38;5;241;43m9\u001b[39;49m\u001b[43m \u001b[49m\u001b[38;5;241;43m*\u001b[39;49m\u001b[43m \u001b[49m\u001b[38;5;241;43m7\u001b[39;49m\u001b[43m)\u001b[49m\u001b[43m \u001b[49m\u001b[38;5;241;43m/\u001b[39;49m\u001b[43m \u001b[49m\u001b[43m(\u001b[49m\u001b[43m(\u001b[49m\u001b[38;5;241;43m6\u001b[39;49m\u001b[43m \u001b[49m\u001b[38;5;241;43m+\u001b[39;49m\u001b[43m \u001b[49m\u001b[38;5;241;43m2\u001b[39;49m\u001b[43m)\u001b[49m\u001b[43m \u001b[49m\u001b[38;5;241;43m-\u001b[39;49m\u001b[43m \u001b[49m\u001b[38;5;241;43m8\u001b[39;49m\u001b[43m)\u001b[49m \n",
      "\u001b[0;31mZeroDivisionError\u001b[0m: division by zero"
     ]
    }
   ],
   "source": [
    "# Find and fix the errors in the following code\n",
    "\n",
    "(9 * 7) / ((6 + 2) - 8) "
   ]
  },
  {
   "cell_type": "code",
   "execution_count": null,
   "id": "5432ee5d-8089-4adb-8081-7ad51b2e7375",
   "metadata": {},
   "outputs": [],
   "source": [
    "# We get a division by zero error when running this code. We can't do much to correct this example since we don't have any context\n",
    "# around where these numbers have coming from. In a contextualised problem, we can typically find a way to avoid dividing by zero."
   ]
  },
  {
   "cell_type": "markdown",
   "id": "09de4969",
   "metadata": {},
   "source": [
    "<a name=\"debugging_formula\"></a>\n",
    "<b>Debugging Formula</b>\n",
    "\n",
    "The code below attempts to convert a temperature from Fahrenheit to Celcius. However, it is not returning the correct answer of 100. Run the code, and then modify it so it produces the correct value.\n",
    "\n",
    "NB. You may need to research what the correct conversion formula is."
   ]
  },
  {
   "cell_type": "code",
   "execution_count": 21,
   "id": "de6863ee",
   "metadata": {},
   "outputs": [
    {
     "data": {
      "text/plain": [
       "194.22222222222223"
      ]
     },
     "execution_count": 21,
     "metadata": {},
     "output_type": "execute_result"
    }
   ],
   "source": [
    "# Find and fix the errors in the following code\n",
    "\n",
    "fahrenheit = 212\n",
    "\n",
    "celsius = fahrenheit - 32 * 5 / 9\n",
    "\n",
    "# now display the variable\n",
    "celsius"
   ]
  },
  {
   "cell_type": "code",
   "execution_count": 25,
   "id": "736a9118-9773-4c15-86c9-aac5e6f269f2",
   "metadata": {
    "tags": []
   },
   "outputs": [
    {
     "data": {
      "text/plain": [
       "100.0"
      ]
     },
     "execution_count": 25,
     "metadata": {},
     "output_type": "execute_result"
    }
   ],
   "source": [
    "# In this example, the code has a semantic error that is not detected by Python. \n",
    "# The error is caused by an incorrect order of operations. We need to subtract 32 first before performing multiplication and division.\n",
    "celsius = (fahrenheit - 32) * 5 / 9\n",
    "celsius"
   ]
  },
  {
   "cell_type": "markdown",
   "id": "8eaf1135-5c9b-42ac-8147-f786bc537385",
   "metadata": {},
   "source": [
    "<a name=\"pltw\"></a>\n",
    "# Other Engineering Formulas\n",
    "\n",
    "Select some Engineering formulas from this popular cheat sheet:\n",
    "<a href=\"https://s3.amazonaws.com/lms-content.pltw.org/curriculum/HS/ENG/GeneralResources/Student/Engineering_FormulaSheet.pdf\">PLTW Engineering Formula Sheet</a> and translate them into Python expressions"
   ]
  },
  {
   "cell_type": "code",
   "execution_count": null,
   "id": "27e61cb2-d44b-4027-afd6-81602daaacc1",
   "metadata": {},
   "outputs": [],
   "source": []
  }
 ],
 "metadata": {
  "kernelspec": {
   "display_name": "Python 3 (ipykernel)",
   "language": "python",
   "name": "python3"
  },
  "language_info": {
   "codemirror_mode": {
    "name": "ipython",
    "version": 3
   },
   "file_extension": ".py",
   "mimetype": "text/x-python",
   "name": "python",
   "nbconvert_exporter": "python",
   "pygments_lexer": "ipython3",
   "version": "3.10.12"
  }
 },
 "nbformat": 4,
 "nbformat_minor": 5
}
