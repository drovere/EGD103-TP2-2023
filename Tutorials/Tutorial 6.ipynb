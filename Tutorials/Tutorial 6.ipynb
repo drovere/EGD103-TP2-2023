{
 "cells": [
  {
   "cell_type": "markdown",
   "id": "a76ca92b-8423-4d57-bc56-35cdc70d1b36",
   "metadata": {},
   "source": [
    "# Week 6 Tutorial: Strings, Sets and Dictionaries\n"
   ]
  },
  {
   "cell_type": "markdown",
   "id": "ec99d825-e0e2-4e52-865a-58d3b5fd9009",
   "metadata": {},
   "source": [
    "## User Input and Formatted Output Strings\n",
    "User input and formatted output strings are useful for creating code that will interact with people who aren't programmers. A simple example of a cost calculator is shown below. You will use this example to help create a function that interacts with an attendant at a cash register.\n"
   ]
  },
  {
   "cell_type": "markdown",
   "id": "02a3f502-51aa-412a-ac99-08e8a694bffc",
   "metadata": {},
   "source": [
    "### Cost calculator (example)"
   ]
  },
  {
   "cell_type": "code",
   "execution_count": 1,
   "id": "225c7a3e-025e-45d5-b612-efe7681dc48a",
   "metadata": {
    "tags": []
   },
   "outputs": [],
   "source": [
    "def cost_calculator():\n",
    "    item_cost = input('How much (in dollars) does a single item cost?')\n",
    "    n_items = input('How many items would you like to purchase?')\n",
    "    cost = float(item_cost) * float(n_items)\n",
    "    \n",
    "    print(f'It will cost ${cost} to purchase {n_items} items that cost ${item_cost} each.')"
   ]
  },
  {
   "cell_type": "code",
   "execution_count": null,
   "id": "3b35cd23-ba92-4ae7-85e4-d0eb177367ac",
   "metadata": {
    "tags": []
   },
   "outputs": [],
   "source": [
    "cost_calculator()"
   ]
  },
  {
   "cell_type": "markdown",
   "id": "48e6fef7-2bb8-4189-9fa8-dc9e416bf566",
   "metadata": {},
   "source": [
    "### Exercise: Cash Register\n",
    "You are designing a cash register program to be used at a sausage sizzle. There are three items for sale: standard sausages (\\\\$3), premium sausages (\\\\$5), and soft drink cans (\\\\$2). Your function should ask the person at the register how many of each item was ordered. It should then ask them how much cash was given to them. It will then calculate how much change they need to give to the customer through a formatted output string. If they weren't given enough money, the output string should state this and mention how much extra money needs to be provided.\n",
    "\n",
    "Bonus (optional): you can also get you function to track inventory (how much of each item has been sold) and revenue (total money made) over the course of multiple purchases."
   ]
  },
  {
   "cell_type": "code",
   "execution_count": null,
   "id": "b026267f-1484-4732-8d91-c2ecf3c18f09",
   "metadata": {},
   "outputs": [],
   "source": [
    "def sausage_sizzle_purchase():\n",
    "    pass # replace pass with your solution"
   ]
  },
  {
   "cell_type": "code",
   "execution_count": null,
   "id": "b6e19029-2547-453f-83cf-bf5001cbc6f7",
   "metadata": {},
   "outputs": [],
   "source": [
    "# call the function here to test if it works"
   ]
  },
  {
   "cell_type": "markdown",
   "id": "75277e17-4824-43ba-88a6-91d1c794c0a1",
   "metadata": {},
   "source": [
    "## Working with Strings\n",
    "Often in programming we are required to extract certain features from a piece of text. For example, you might want to find the most frequently used words from a collection of product reviews to capture how people feel about the product. This typically involves the use of string methods and loops. There are lots of string methods, so in this tutorial we will suggest useful methods to you. \n",
    "\n",
    "The test cases for the following exercises will be two quotes from Hamlet."
   ]
  },
  {
   "cell_type": "code",
   "execution_count": null,
   "id": "1df91f27-b886-4840-a72f-e8c97c29361e",
   "metadata": {
    "tags": []
   },
   "outputs": [],
   "source": [
    "quote_1 = \"\"\"To be, or not to be: that is the question:\n",
    "Whether 'tis nobler in the mind to suffer\n",
    "The slings and arrows of outrageous fortune,\n",
    "Or to take arms against a sea of troubles,\n",
    "And by opposing end them. To die: to sleep...\"\"\""
   ]
  },
  {
   "cell_type": "code",
   "execution_count": null,
   "id": "a69468b3-7021-4ea7-8566-f95e6140bb58",
   "metadata": {
    "tags": []
   },
   "outputs": [],
   "source": [
    "quote_2 = \"\"\"This above all: to thine own self be true,\n",
    "And it must follow, as the night the day,\n",
    "Thou canst not then be false to any man.\"\"\""
   ]
  },
  {
   "cell_type": "markdown",
   "id": "0f98f8d9-b7fc-40e8-a2b0-c6ba75f9163a",
   "metadata": {},
   "source": [
    "### Accessing lines and words in text"
   ]
  },
  {
   "cell_type": "code",
   "execution_count": null,
   "id": "1f5401bf-ff06-4ede-8411-b2fa91726d9d",
   "metadata": {
    "tags": []
   },
   "outputs": [],
   "source": [
    "# access lines with the splitlines method\n",
    "quote_1_lines = quote_1.splitlines()\n",
    "quote_1_lines"
   ]
  },
  {
   "cell_type": "code",
   "execution_count": null,
   "id": "16d8deb7-cde5-4166-9bbf-7204784885d3",
   "metadata": {
    "tags": []
   },
   "outputs": [],
   "source": [
    "# since each line is stored as a separate element of a list, you can now access individual lines or iterate through each line.\n",
    "# example: access the first line\n",
    "quote_1_lines[0]"
   ]
  },
  {
   "cell_type": "code",
   "execution_count": null,
   "id": "b1ec063c-e070-40c7-95ef-3676a6615adc",
   "metadata": {
    "tags": []
   },
   "outputs": [],
   "source": [
    "# you can access each word using the split method\n",
    "quote_1_words = quote_1.split()\n",
    "quote_1_words"
   ]
  },
  {
   "cell_type": "code",
   "execution_count": null,
   "id": "c929be23-dd2b-4e30-b04e-e2f0797b7c9e",
   "metadata": {
    "tags": []
   },
   "outputs": [],
   "source": [
    "# You will notice that there is punctuation attached to some of the words. Some of the words also start with capital letters. \n",
    "# This can be cleaned up with the lower method and the strip method.\n",
    "import string\n",
    "\n",
    "quote_1_words = quote_1_cleaned.lower().split() # converts to lower case\n",
    "\n",
    "# for loop to strip punctuation from each word\n",
    "for word in quote_1_words:\n",
    "    cleaned_word = word.strip(string.punctuation)\n",
    "    print(cleaned_word)"
   ]
  },
  {
   "cell_type": "markdown",
   "id": "5efa3ae1-ccbb-4a38-82d2-5f0b276ac2c0",
   "metadata": {},
   "source": [
    "### Exercise: Word Count\n",
    "Create a function that counts the number of words in a piece of text. Then test your function by calling it on the two example texts."
   ]
  },
  {
   "cell_type": "code",
   "execution_count": null,
   "id": "f65192aa-6f54-4927-b29d-559434ac63dd",
   "metadata": {},
   "outputs": [],
   "source": [
    "def word_count(text):\n",
    "    pass # replace with your own solution"
   ]
  },
  {
   "cell_type": "code",
   "execution_count": null,
   "id": "1bebc4b4-fdfe-4640-82b9-53ca25ce2ac9",
   "metadata": {
    "tags": []
   },
   "outputs": [],
   "source": [
    "word_count(quote_1) # should return 43"
   ]
  },
  {
   "cell_type": "code",
   "execution_count": null,
   "id": "3dc2a40e-3cfa-4885-9768-062077667379",
   "metadata": {
    "tags": []
   },
   "outputs": [],
   "source": [
    "word_count(quote_2) # should return 27"
   ]
  },
  {
   "cell_type": "markdown",
   "id": "1f619d4c-1ea0-456d-a557-b25146fec5fe",
   "metadata": {},
   "source": [
    "## Sets"
   ]
  },
  {
   "cell_type": "markdown",
   "id": "fc3e114c-1bc9-4341-91ba-0e28346912c9",
   "metadata": {},
   "source": [
    "### Exercise: Finding all unique words in a piece of text\n",
    "Suppose we instead were interested in each unique word in a piece of text. A convenient way to achieve this is to store each word in a set. A set does not allow duplicate entries, so will only display each word once. You can start with an empty set using the set function and then use the add method to add each word to the set. Alternatively, you could add all the words to a list using the append method, and then convert that list to a set."
   ]
  },
  {
   "cell_type": "code",
   "execution_count": null,
   "id": "ce36d354-a140-4135-acd6-2e82910fe7f3",
   "metadata": {
    "tags": []
   },
   "outputs": [],
   "source": [
    "def unique_words(text):\n",
    "    pass # replace with your own solution"
   ]
  },
  {
   "cell_type": "code",
   "execution_count": null,
   "id": "2660f814-355b-4e06-a24e-423a725a025f",
   "metadata": {
    "tags": []
   },
   "outputs": [],
   "source": [
    "unique_words(quote_1)"
   ]
  },
  {
   "cell_type": "markdown",
   "id": "458b5c0d-1cbe-4dce-a410-bfbcd2b9c1bc",
   "metadata": {},
   "source": [
    "### Exercise: Finding words shared between two texts\n",
    "Another benefit of working with sets is you gain access to set operations such as intersection and union. We can use intersection (either the & operator or intersection method) to easily find which words belong to two pieces of text.\n",
    "\n",
    "Create the function below which accepts two arguments which are strings. It should ouput the set of words that the two texts share in common."
   ]
  },
  {
   "cell_type": "code",
   "execution_count": null,
   "id": "fad11416-5ddb-4476-886f-88182d4a5901",
   "metadata": {},
   "outputs": [],
   "source": [
    "def shared_words(text1, text2):\n",
    "    text1_words = unique_words(text1)\n",
    "    text2_words = unique_words(text2)\n",
    "    return text1_words & text2_words\n"
   ]
  },
  {
   "cell_type": "code",
   "execution_count": null,
   "id": "1df60869-b77d-4f53-b31c-cd30f3177d9d",
   "metadata": {
    "tags": []
   },
   "outputs": [],
   "source": [
    "shared_words(quote_1, quote_2) # should return {'and', 'be', 'not', 'the', 'to'}"
   ]
  },
  {
   "cell_type": "markdown",
   "id": "42fbfd61-335d-49b8-a8ce-d56e8d9e9af8",
   "metadata": {},
   "source": [
    "## Dictionaries\n",
    "A dictionary is a collection of unique identifiers (called keys) that have some information associated with them (called values). For these exercises, we will get you to create a dictionary to store information corresponding to each word, such as its length or the frequency in which it appears in a text."
   ]
  },
  {
   "cell_type": "markdown",
   "id": "937e300c-b055-4310-bd81-dd8c02b97429",
   "metadata": {},
   "source": [
    "### Example: Word Lengths\n",
    "The example below shows how each unique word can be stored as the keys of a dictionary, and its length is stored as the corresponding value. We have called the unique_words function from earlier in the tutorial to simplify the task."
   ]
  },
  {
   "cell_type": "code",
   "execution_count": null,
   "id": "d93f0bc5-ab55-49c7-a994-95c14443681a",
   "metadata": {
    "tags": []
   },
   "outputs": [],
   "source": [
    "def word_lengths(text):\n",
    "    words = unique_words(text)\n",
    "    word_dictionary = {}\n",
    "    for word in words:\n",
    "        word_dictionary[word] = len(word)\n",
    "    \n",
    "    return word_dictionary"
   ]
  },
  {
   "cell_type": "code",
   "execution_count": null,
   "id": "95c14267-9aaf-4afc-86dc-6dc869d9a26d",
   "metadata": {
    "tags": []
   },
   "outputs": [],
   "source": [
    "word_lengths(quote_1)"
   ]
  },
  {
   "cell_type": "markdown",
   "id": "e587fb41-233f-4c33-8269-b51458b5c8f4",
   "metadata": {},
   "source": [
    "### Exercise: Word Frequency Counter\n",
    "Create a function that reads through a piece of text. It should ouput a dictionary where the keys are each unique word in the text, and the values are the frequency of that word (how many times it appeared in the text). "
   ]
  },
  {
   "cell_type": "code",
   "execution_count": null,
   "id": "aa2c280c-9b1b-46c3-8b18-a06ee117b769",
   "metadata": {
    "tags": []
   },
   "outputs": [],
   "source": [
    "def word_frequency(text):\n",
    "    pass # replace with your own code"
   ]
  },
  {
   "cell_type": "code",
   "execution_count": null,
   "id": "0b401458-baea-45af-b198-b231ffbf0a14",
   "metadata": {
    "tags": []
   },
   "outputs": [],
   "source": [
    "# test case\n",
    "word_frequency(quote_1)"
   ]
  },
  {
   "cell_type": "markdown",
   "id": "e5ca0ae3-763c-4230-9485-bba1fd6fcd2e",
   "metadata": {},
   "source": [
    "### Exercise: Sorting a Dictionary\n",
    "You will have noticed that the dictionary entries aren't sorted in alphabetical order: the order is based on when the word was entered into the dictionary. Create a function below that accepts a dictionary input and outputs a dictionary where the keys have been sorted in alphabetical order."
   ]
  },
  {
   "cell_type": "code",
   "execution_count": null,
   "id": "02385935-2d57-4f3a-b07a-de32f4b36925",
   "metadata": {
    "tags": []
   },
   "outputs": [],
   "source": [
    "def sort_dictionary(dictionary):\n",
    "    pass # replace with your own code\n",
    "           "
   ]
  },
  {
   "cell_type": "code",
   "execution_count": null,
   "id": "047ed5b6-f680-42e4-992f-2d39fd2222e7",
   "metadata": {},
   "outputs": [],
   "source": [
    "# test your code here by calling it on a dictionary"
   ]
  },
  {
   "cell_type": "code",
   "execution_count": null,
   "id": "e765d5e1-5e1d-4c2d-9703-e3ef35e9883c",
   "metadata": {},
   "outputs": [],
   "source": [
    "# optional: can you create a function that sorts the dictionary by value instead of by key?"
   ]
  },
  {
   "cell_type": "markdown",
   "id": "8a0d0577-5520-4dbf-8c39-94cbb6bebc0a",
   "metadata": {},
   "source": [
    "## Extension Exercise: Account Details Database\n",
    "You have likely had to create an online account many times throughout your life. The process typically starts by creating an account which needs a username and a password. Once an account is created, you can then log in to your account my providing your username and password. \n",
    "\n",
    "In this exercise you will create two functions: one which let's the user create an account, and another which let's them log in to their account."
   ]
  },
  {
   "cell_type": "code",
   "execution_count": null,
   "id": "671b4698-c19f-48b9-a1b7-76da847b61fc",
   "metadata": {},
   "outputs": [],
   "source": [
    "# creating an empty dictionary to store login details\n",
    "login_details = {}"
   ]
  },
  {
   "cell_type": "markdown",
   "id": "ca6ffa1b-c47b-4293-8444-02b5cb32b0d1",
   "metadata": {},
   "source": [
    "### Creating an Account\n",
    "You should create a function that firstly asks the user for their username. If the username doesn't exist in the login_details dictionary, they can then be asked to enter a password. If the username does exist, they should be given a message that says that the username is already taken. It should then prompt them once again to enter a username.\n",
    "\n",
    "When the user is asked to enter a password, your code must check that it is a strong password. It needs to have 12+ characters and must contain at least one lower case letter, one upper case letter and one number. You should look through the different string methods that are available to work out how to do these checks. If the password is strong, then the code should store the username as a key of the dictionary and the password as its corresponding value. Otherwise, the code should tell the user that it didn't follow the rules of a strong password and should ask them again to enter a password.\n",
    "\n",
    "You might choose to break the problem up into several function (eg. one for username, one for password) if you wish."
   ]
  },
  {
   "cell_type": "code",
   "execution_count": null,
   "id": "181c91e4-a1a4-4e40-9c4f-e5a794d7fb71",
   "metadata": {},
   "outputs": [],
   "source": [
    "def create_account():\n",
    "    pass # replace with your own solution"
   ]
  },
  {
   "cell_type": "code",
   "execution_count": null,
   "id": "27b063b9-89dd-413b-bea5-aec82c18fc8f",
   "metadata": {
    "tags": []
   },
   "outputs": [],
   "source": [
    "# test function\n",
    "create_account()"
   ]
  },
  {
   "cell_type": "code",
   "execution_count": null,
   "id": "4f675860-7151-4880-bfb8-f794c49a3c22",
   "metadata": {
    "tags": []
   },
   "outputs": [],
   "source": [
    "# test that details are being added to dictionary\n",
    "login_details"
   ]
  },
  {
   "cell_type": "markdown",
   "id": "afed5d00-40f7-4a91-b37c-e670b06a8f98",
   "metadata": {},
   "source": [
    "### Logging in to Account\n",
    "Here you will create a function that gets the user to log in to their account. They should get a prompt to enter their username, and then another prompt to enter their password. If the username and password can be found as an entry of the login_details dictionary, the function should give a welcome message signifying they have successfully logged in to their account. If the username and password are not in the dictionary, the function should say 'incorrect username or password: you have 3 attempts remaining', and then ask the user again to enter their username and password. After three more unsuccessful attempts, the function should say that they have used all of their login attempts and their account has been locked for security purposes."
   ]
  },
  {
   "cell_type": "code",
   "execution_count": null,
   "id": "966021be-4702-4527-ab98-f9f2d2d0f6f2",
   "metadata": {
    "tags": []
   },
   "outputs": [],
   "source": [
    "def login_account():\n",
    "    pass # replace with your own code"
   ]
  },
  {
   "cell_type": "code",
   "execution_count": null,
   "id": "4857f472-84f0-4f64-af3c-821e90dd6cf9",
   "metadata": {
    "tags": []
   },
   "outputs": [],
   "source": [
    "# test your function out\n",
    "login_account()"
   ]
  }
 ],
 "metadata": {
  "kernelspec": {
   "display_name": "Python 3 (ipykernel)",
   "language": "python",
   "name": "python3"
  },
  "language_info": {
   "codemirror_mode": {
    "name": "ipython",
    "version": 3
   },
   "file_extension": ".py",
   "mimetype": "text/x-python",
   "name": "python",
   "nbconvert_exporter": "python",
   "pygments_lexer": "ipython3",
   "version": "3.10.12"
  }
 },
 "nbformat": 4,
 "nbformat_minor": 5
}
