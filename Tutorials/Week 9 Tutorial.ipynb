{
 "cells": [
  {
   "cell_type": "markdown",
   "id": "bf0a98ce-a438-410a-922a-b57b605cb8c1",
   "metadata": {},
   "source": [
    "# Week 8 Tutorial: Visualising Data\n",
    "In this tutorial we will visualise data to describe pedestrian and cyclist traffic in Brisbane. For simplicity, we have chosen to analyse one site (Maritime Museum, South Brisbane) which is close to QUT Garden's Point. \n",
    "<h3>Data Attribution</h3>\n",
    "<table style=\"border-style:solid; margin-left:0\">\n",
    "        <tr><td>Contributor:</td><td>Brisbane City Council 2023</td></tr>\n",
    "        <tr><td>License:</td><td><a href=\"https://creativecommons.org/licenses/by/4.0/\">Creative Commons Attribution 4.0</a></td></tr>\n",
    "        <tr><td>Data source:</td><td><a href=\"https://www.data.brisbane.qld.gov.au/data/dataset/bikeway-counts/resource/90d62cbb-d923-4820-be27-febf42dae10d\">https://www.data.brisbane.qld.gov.au/data/dataset/bikeway-counts/resource/90d62cbb-d923-4820-be27-febf42dae10d</a></td></tr>\n",
    "        <tr><td>Local data file:</td><td><a href=\"bike-ped-auto-counts-2021.csv\">bike-ped-auto-counts-2021.csv</a>  </td></tr>\n",
    "        <tr><td colspan=2>If you share this data, you must preserve this attribution.</td></tr>\n",
    "</table>      \n",
    "<p>Make sure you have uploaded file <code>bike-ped-auto-counts-2021.csv</code> to the same folder as this Notebook.</p>"
   ]
  },
  {
   "cell_type": "markdown",
   "id": "e181f7e3-94d4-45cd-892c-efbbcf0c1bda",
   "metadata": {},
   "source": [
    "## Importing Data and Processing Data\n",
    "The data has been imported and processed for you so you can focus your time on data visualisation. Don't change the code, but do read it as it contains some useful data processing tools."
   ]
  },
  {
   "cell_type": "code",
   "execution_count": 1,
   "id": "4ea87265-9b31-4dd4-b92e-7080030511cd",
   "metadata": {},
   "outputs": [
    {
     "data": {
      "text/html": [
       "<div>\n",
       "<style scoped>\n",
       "    .dataframe tbody tr th:only-of-type {\n",
       "        vertical-align: middle;\n",
       "    }\n",
       "\n",
       "    .dataframe tbody tr th {\n",
       "        vertical-align: top;\n",
       "    }\n",
       "\n",
       "    .dataframe thead th {\n",
       "        text-align: right;\n",
       "    }\n",
       "</style>\n",
       "<table border=\"1\" class=\"dataframe\">\n",
       "  <thead>\n",
       "    <tr style=\"text-align: right;\">\n",
       "      <th></th>\n",
       "      <th>Pedestrians</th>\n",
       "      <th>Cyclists</th>\n",
       "      <th>Cyclists_other_site</th>\n",
       "    </tr>\n",
       "    <tr>\n",
       "      <th>Date</th>\n",
       "      <th></th>\n",
       "      <th></th>\n",
       "      <th></th>\n",
       "    </tr>\n",
       "  </thead>\n",
       "  <tbody>\n",
       "    <tr>\n",
       "      <th>2021-01-01</th>\n",
       "      <td>5710.0</td>\n",
       "      <td>1738.0</td>\n",
       "      <td>265</td>\n",
       "    </tr>\n",
       "    <tr>\n",
       "      <th>2021-01-02</th>\n",
       "      <td>6485.0</td>\n",
       "      <td>2538.0</td>\n",
       "      <td>462</td>\n",
       "    </tr>\n",
       "    <tr>\n",
       "      <th>2021-01-03</th>\n",
       "      <td>6525.0</td>\n",
       "      <td>2974.0</td>\n",
       "      <td>479</td>\n",
       "    </tr>\n",
       "    <tr>\n",
       "      <th>2021-01-04</th>\n",
       "      <td>4720.0</td>\n",
       "      <td>2865.0</td>\n",
       "      <td>538</td>\n",
       "    </tr>\n",
       "    <tr>\n",
       "      <th>2021-01-05</th>\n",
       "      <td>4690.0</td>\n",
       "      <td>3353.0</td>\n",
       "      <td>637</td>\n",
       "    </tr>\n",
       "    <tr>\n",
       "      <th>...</th>\n",
       "      <td>...</td>\n",
       "      <td>...</td>\n",
       "      <td>...</td>\n",
       "    </tr>\n",
       "    <tr>\n",
       "      <th>2021-12-27</th>\n",
       "      <td>4644.0</td>\n",
       "      <td>1970.0</td>\n",
       "      <td>351</td>\n",
       "    </tr>\n",
       "    <tr>\n",
       "      <th>2021-12-28</th>\n",
       "      <td>3073.0</td>\n",
       "      <td>910.0</td>\n",
       "      <td>224</td>\n",
       "    </tr>\n",
       "    <tr>\n",
       "      <th>2021-12-29</th>\n",
       "      <td>3875.0</td>\n",
       "      <td>1311.0</td>\n",
       "      <td>397</td>\n",
       "    </tr>\n",
       "    <tr>\n",
       "      <th>2021-12-30</th>\n",
       "      <td>5135.0</td>\n",
       "      <td>2341.0</td>\n",
       "      <td>416</td>\n",
       "    </tr>\n",
       "    <tr>\n",
       "      <th>2021-12-31</th>\n",
       "      <td>5888.0</td>\n",
       "      <td>2074.0</td>\n",
       "      <td>386</td>\n",
       "    </tr>\n",
       "  </tbody>\n",
       "</table>\n",
       "<p>365 rows × 3 columns</p>\n",
       "</div>"
      ],
      "text/plain": [
       "            Pedestrians  Cyclists  Cyclists_other_site\n",
       "Date                                                  \n",
       "2021-01-01       5710.0    1738.0                  265\n",
       "2021-01-02       6485.0    2538.0                  462\n",
       "2021-01-03       6525.0    2974.0                  479\n",
       "2021-01-04       4720.0    2865.0                  538\n",
       "2021-01-05       4690.0    3353.0                  637\n",
       "...                 ...       ...                  ...\n",
       "2021-12-27       4644.0    1970.0                  351\n",
       "2021-12-28       3073.0     910.0                  224\n",
       "2021-12-29       3875.0    1311.0                  397\n",
       "2021-12-30       5135.0    2341.0                  416\n",
       "2021-12-31       5888.0    2074.0                  386\n",
       "\n",
       "[365 rows x 3 columns]"
      ]
     },
     "execution_count": 1,
     "metadata": {},
     "output_type": "execute_result"
    }
   ],
   "source": [
    "import pandas as pd\n",
    "\n",
    "# importing data\n",
    "auto_counts = pd.read_csv('bike-ped-auto-counts-2021.csv', parse_dates = ['Date'], index_col = 'Date', usecols = ['Date', 'A025, Maritime Museum, South Brisbane  _Pedestrian', 'A025, Maritime Museum, South Brisbane  _Cyclist', 'A026, Annerley Rd, South Brisbane  _Cyclist'])\n",
    "\n",
    "# changing column labels\n",
    "auto_counts.rename(columns = {'A025, Maritime Museum, South Brisbane  _Pedestrian':'Pedestrians','A025, Maritime Museum, South Brisbane  _Cyclist':'Cyclists', 'A026, Annerley Rd, South Brisbane  _Cyclist': 'Cyclists_other_site'}, inplace=True)\n",
    "\n",
    "auto_counts"
   ]
  },
  {
   "cell_type": "markdown",
   "id": "91945def-d23b-45e0-9fd5-26fd51c0c3f7",
   "metadata": {},
   "source": [
    "## Part 1: Comparing Pedestrian and Cyclist Counts\n",
    "Compare the pedestrian and cyclist counts using the following visuals:\n",
    "1. A density plot including both the pedestrian and cyclist counts\n",
    "2. A histogram with 20 bins (use the bins argument). The plots should be on separate subplots (use the subplots argument)\n",
    "3. A boxplot\n",
    "\n",
    "\n",
    "Based on the plots, how to the counts compare? Do they have similar distributions? Is one count noticably larger than the other?"
   ]
  },
  {
   "cell_type": "code",
   "execution_count": 2,
   "id": "3829aeb3-f808-488e-bb3d-2e11fb396ac7",
   "metadata": {},
   "outputs": [],
   "source": [
    "# insert density plot here\n"
   ]
  },
  {
   "cell_type": "code",
   "execution_count": 3,
   "id": "e915aedb-dccc-44ee-8432-8aaad743639a",
   "metadata": {},
   "outputs": [],
   "source": [
    "# insert histogram here\n"
   ]
  },
  {
   "cell_type": "code",
   "execution_count": 4,
   "id": "cc61c5f4-bc56-44db-8f20-f9c0e93a7219",
   "metadata": {},
   "outputs": [],
   "source": [
    "# insert box plot here\n"
   ]
  },
  {
   "cell_type": "markdown",
   "id": "458075d4-5ddd-423d-bb91-78c74d394a11",
   "metadata": {},
   "source": [
    "## Part 2: Investigating Time Series Trends\n",
    "Here we will explore how pedestrian and cyclist counts vary throughout the year. Line plots are a common way to explore time series data like this. Create a line plot showing how pedestrian and cyclist counts vary throughout the year. Ensure the plot has a title and appropriate labels. Is there a clear increase/decrease in traffic over time? Why are there gaps in the plot?"
   ]
  },
  {
   "cell_type": "code",
   "execution_count": 5,
   "id": "e1b70fb5-ba04-4c26-9bc6-fb7ef6ae38ae",
   "metadata": {},
   "outputs": [],
   "source": [
    "# insert line plot here\n"
   ]
  },
  {
   "cell_type": "markdown",
   "id": "14e3cab5-6ea6-4fe1-a58b-4d0e054c36a4",
   "metadata": {},
   "source": [
    "We notice that the plot might have a periodic nature due to day of the week being a factor in pedestrian and cyclist counts, but it's a bit hard to see while looking over the full year. This time, create a line plot that shows the pedestrian and cyclist counts just for the month of February (hint: you can do this with the xlim argument). Does day of the week look to have an effect on the counts?"
   ]
  },
  {
   "cell_type": "code",
   "execution_count": 6,
   "id": "b2f90a43-30ff-4b99-8951-35c02396d61c",
   "metadata": {},
   "outputs": [],
   "source": [
    "# insert line plot for February here\n"
   ]
  },
  {
   "cell_type": "markdown",
   "id": "fe210ff0-571d-4f0b-888c-fd1162169615",
   "metadata": {},
   "source": [
    "To further investigate the effect of day of the week, we could create a new dataset which includes the average counts for each day of the week."
   ]
  },
  {
   "cell_type": "code",
   "execution_count": 7,
   "id": "c75b4196-54b3-48ef-8cd1-d7aab039b023",
   "metadata": {},
   "outputs": [],
   "source": [
    "# Creating weekly count dataset. \n",
    "# Step 1: Use day_name method to create a new column containing the day of the week\n",
    "\n",
    "\n",
    "# Step 2: Use the groupby method to groupby day and then apply a mean aggregate\n",
    "\n",
    "\n",
    "# In what order are the days displaying?\n"
   ]
  },
  {
   "cell_type": "code",
   "execution_count": 8,
   "id": "6af6852a-6d48-4244-a892-913b72149b0e",
   "metadata": {
    "tags": []
   },
   "outputs": [],
   "source": [
    "# To have the days displayed in order from Monday - Sunday, \n",
    "# we can convert the column from a string to a categorical and define the order of each category\n"
   ]
  },
  {
   "cell_type": "markdown",
   "id": "4737edf8-5f9b-4ea4-b1bc-82cec13b64ec",
   "metadata": {},
   "source": [
    "Create a bar graph that shows how the average counts for pedestrians and cyclists are effected by day of the week. Does the day of the week have a significant effect on the counts? Are pedestrians and cyclists affected in the same way, or differently?"
   ]
  },
  {
   "cell_type": "code",
   "execution_count": 9,
   "id": "b2dd3b48-52ee-4415-b0ce-420c39e55a25",
   "metadata": {},
   "outputs": [],
   "source": [
    "# insert bar plot here\n"
   ]
  },
  {
   "cell_type": "markdown",
   "id": "4bfaa497-cadc-4fa0-aded-cf319e986ec8",
   "metadata": {},
   "source": [
    "## Part 3: Comparing Cyclist Counts at Two Sites\n",
    "We noticed in part 2 that there we some missing values in the data (clearly the counter had some technical issues!). Another counter located nearby (Annerley Rd, South Brisbane) did not have any technical issues throughout the year. It is hypothesised that if there is a strong relationship between counts on the two sites, we could reasonably accurately fill in missing values.\n",
    "\n",
    "Create a scatter plot that shows the relationship between:\n",
    "1. Cyclists on other site vs. cyclists\n",
    "2. Cyclists on other site vs. pedestrians\n",
    "\n",
    "Also calculate the correlation between these values.\n",
    "\n",
    "Based on the plots, could we reasonably predect cyclists and/or pedestrians at the Maritime Museum using data from the other site?"
   ]
  },
  {
   "cell_type": "code",
   "execution_count": 10,
   "id": "57733ad5-a9e6-4b4a-a759-2f804b6c003c",
   "metadata": {},
   "outputs": [],
   "source": [
    "# insert scatter plot 1 here\n"
   ]
  },
  {
   "cell_type": "code",
   "execution_count": 11,
   "id": "d8192f1d-a26c-4821-948c-8d1d54a0840b",
   "metadata": {},
   "outputs": [],
   "source": [
    "# insert scatter plot 2 here\n"
   ]
  },
  {
   "cell_type": "code",
   "execution_count": 12,
   "id": "8f3c5c57-91ca-4515-8ed9-8f95a3b0ea77",
   "metadata": {
    "tags": []
   },
   "outputs": [],
   "source": [
    "# insert correlations here\n"
   ]
  },
  {
   "cell_type": "markdown",
   "id": "3f1660b7-9dcc-415a-9a2e-b386a770b3c3",
   "metadata": {},
   "source": [
    "**Challenge**\n",
    "\n",
    "We see from the first scatter plot that there are some outliers below the general trendline. This could be because the sensor at Maritime Museum was broken for part of the day rather than the full day. The most likely scenario for this would be days immediately preceeding or following a day with missing data. Create a new filtered dataset which has these rows removed and plots then plot the relationship between cyclist counts at the two sites. Comment on whether this has removed the outliers or not."
   ]
  },
  {
   "cell_type": "code",
   "execution_count": 13,
   "id": "fd8d5650-4bfb-46d6-b101-3d2534c466d1",
   "metadata": {},
   "outputs": [],
   "source": [
    "# insert code that filters the data to only keep rows that have data on the current day, the preceeding day, \n",
    "# and the next day. Redo the scatter plot using the filtered data. Hint: the isna() method can be used to detect \n",
    "# missing values\n",
    "\n"
   ]
  },
  {
   "cell_type": "markdown",
   "id": "d0e820e7-9431-449d-ab78-0c0d12ae3bd3",
   "metadata": {},
   "source": [
    "## Part 4: Further Plot Customisation\n",
    "Try accessing optional inputs of the pandas plot method to make the following customisations:\n",
    "* change figure size\n",
    "* change font size\n",
    "* change line colour, line style, line width\n",
    "* change xticks and yticks\n",
    "\n",
    "You can even explore seaborn (an alternative library for data visualisation) if you are really keen."
   ]
  },
  {
   "cell_type": "markdown",
   "id": "e7789c8d-cd83-415c-a33d-3fd003199a5d",
   "metadata": {},
   "source": [
    "## Part 5: Another Data Set\n",
    "Have a look at the household electricity usage data ('D202.csv') from the last week's tutorial, and use data visualisation to answer questions about the data. \n",
    "\n",
    "Some example questions to help get you started are:\n",
    "* How is electricity usage affected by hour of the day?\n",
    "* How is electricity usage affected by day of the week?\n",
    "* How is electricity usage affected by month of the year?\n",
    "* Is there a strong linear relationship between electricity usage and cost?"
   ]
  },
  {
   "cell_type": "code",
   "execution_count": null,
   "id": "091b6f5a-8c7d-48fd-8267-6bd3e164ed55",
   "metadata": {},
   "outputs": [],
   "source": []
  }
 ],
 "metadata": {
  "kernelspec": {
   "display_name": "Python 3 (ipykernel)",
   "language": "python",
   "name": "python3"
  },
  "language_info": {
   "codemirror_mode": {
    "name": "ipython",
    "version": 3
   },
   "file_extension": ".py",
   "mimetype": "text/x-python",
   "name": "python",
   "nbconvert_exporter": "python",
   "pygments_lexer": "ipython3",
   "version": "3.10.12"
  }
 },
 "nbformat": 4,
 "nbformat_minor": 5
}
