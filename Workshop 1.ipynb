{
 "cells": [
  {
   "cell_type": "markdown",
   "id": "4f663ef1-d20c-4b70-84c7-4c33e8cb4fd9",
   "metadata": {},
   "source": [
    "# Workshop 1 - Introduction to Python Programming\n",
    "In this workshop, we explore introductory programming within a programming environment. We will be doing our programming online using Jupyterlab"
   ]
  },
  {
   "cell_type": "markdown",
   "id": "84169a55-aef2-46d5-a96c-edf889ecc455",
   "metadata": {},
   "source": [
    "## Evaluating Expressions\n",
    "We will start by typing some simple expressions into Python using mathematical operators.\n",
    "| Operator | Description |\n",
    "| ----------- | ----------- |\n",
    "| + | Addition |\n",
    "| - | Subtraction |\n",
    "| * | Multiplication |\n",
    "| / | Division |\n",
    "| // | Floored division |\n",
    "| ** | Exponentiation |\n",
    "| % | Remainder/modulus |\n",
    "\n",
    "In expressions with multiple operators, it is important for you to understand the order of operations. A full list for Python is provided here: https://docs.python.org/3/reference/expressions.html#evaluation-order."
   ]
  },
  {
   "cell_type": "code",
   "execution_count": null,
   "id": "db8e8d9d-093d-4841-91df-9a28f9072dc7",
   "metadata": {},
   "outputs": [],
   "source": []
  },
  {
   "cell_type": "markdown",
   "id": "ff5eaf8e-204f-423e-9a1d-3026fb1582ed",
   "metadata": {},
   "source": [
    "## Variables and assignment\n",
    "When programming, we usually use assignment statements. These use the assignment operator: `=`. The typical syntax for this is: `variable_name = expression`.\n",
    "\n",
    "Assignment statements are executed with two distinct steps:\n",
    "1. Evaluate the expression on the right to a value\n",
    "2. Assign that value to the variable name given on the left\n",
    "\n",
    "Once a variable is created this way, its name and value are stored and can be used in expressions. We will discuss assignment in more detail next week."
   ]
  },
  {
   "cell_type": "code",
   "execution_count": null,
   "id": "75320d50-83b7-495c-92a1-2b79ca666880",
   "metadata": {},
   "outputs": [],
   "source": []
  },
  {
   "cell_type": "markdown",
   "id": "103fc092-def3-469c-af9c-c837b5248fff",
   "metadata": {},
   "source": [
    "## Comments\n",
    "Comments are sections of code that are not exectuted by a program. Their purpose is to be read by humans, and are helpful in making code easier to understand.\n",
    "\n",
    "In python, we comment by using the `#` symbol."
   ]
  },
  {
   "cell_type": "code",
   "execution_count": null,
   "id": "aecd38dc-b54f-424d-9f41-eb1906f46cbd",
   "metadata": {},
   "outputs": [],
   "source": []
  },
  {
   "cell_type": "markdown",
   "id": "2949b86f-b8fb-4282-b686-fc6f62d990f6",
   "metadata": {
    "tags": []
   },
   "source": [
    "## Calling functions\n",
    "A function is a named block of code that can be executed by supplying input information (called arguments).\n",
    "\n",
    "The general syntax for calling a function is: `function_name(argument)`. \n",
    "\n",
    "In the event a function has multiple inputs, they are separated by commas `function_name(argument1, argument2, ..., argumentN)`.\n",
    "\n",
    "Base Python has relatively few functions built in - only 68!. A full list can be found here: https://docs.python.org/3/library/functions.html.\n",
    "\n",
    "Some useful functions to get started with are given below.\n",
    "| Function | Description |\n",
    "| ----------- | ----------- |\n",
    "| `abs` | Finds the absolute value of the argument |\n",
    "| `round` | Rounds first argument |\n",
    "| `max` | Outputs the largest argument |\n",
    "| `min` | Outputs the smallest argument |\n",
    "| `sum` | Adds all arguments |\n",
    "| `print` | Prints object  |\n",
    "| `help` | Get help documentation for a function/module/class/method/keyword |\n"
   ]
  },
  {
   "cell_type": "code",
   "execution_count": null,
   "id": "4b51c1cd-de9c-4c3e-b1d7-4984b43bbf5f",
   "metadata": {},
   "outputs": [],
   "source": []
  },
  {
   "cell_type": "markdown",
   "id": "a8ea07b1-5f0c-4db6-827e-70e108d4b15b",
   "metadata": {
    "tags": []
   },
   "source": [
    "## Importing modules and examples using the math module\n",
    "We are able to gain access to more functions by importing modules. The syntax for importing a module is:\n",
    "`import module_name`\n",
    "\n",
    "Once imported, you can call functions within that module. The syntax for this is: `module_name.function_name(arguments)`.\n",
    "\n",
    "We will begin by looking at the `math` module. Documentation is available here: https://docs.python.org/3/library/math.html."
   ]
  },
  {
   "cell_type": "code",
   "execution_count": null,
   "id": "7ab2fa69-c70a-428a-be07-0ca9620cfdfc",
   "metadata": {},
   "outputs": [],
   "source": []
  },
  {
   "cell_type": "markdown",
   "id": "5a258650-402a-4334-92c7-92b9d410f26a",
   "metadata": {},
   "source": [
    "## Errors\n",
    "When programming, you are bound to make errors at some point. It is important that you are able to troubleshoot your code to identify and remove these errors. There are two types of errors: syntax errors and semantic errors.\n",
    "\n",
    "Syntax errors: caused when code does not abide by the rules of the language\n",
    "\n",
    "Semantic errors: caused when code gives incorrect intructions\n",
    "\n",
    "Python will pick up syntax errors for you. Semantic errors will often go undetected, so it important to have sound practices in place to help detect semantic errors (eg. using test cases to verify whether your code can perform tasks correctly)."
   ]
  },
  {
   "cell_type": "code",
   "execution_count": null,
   "id": "ecd76e70-f9bf-4fc9-8c79-04dd612ff9e5",
   "metadata": {},
   "outputs": [],
   "source": []
  },
  {
   "cell_type": "markdown",
   "id": "f2f379e5-878f-4055-a010-144e8fd9dc73",
   "metadata": {},
   "source": [
    "## Object types\n",
    "Each object created in Python has a type associated with it. The type of an object can be found with `type(object_name)`. This week we look at the three types below. As the semester progresses, you will be introduced to more types such as booleans, lists, Numpy arrays and Pandas dataframes.\n",
    "\n",
    "| Type | Description |\n",
    "| ----------- | ----------- |\n",
    "| `int` | whole numbers |\n",
    "| `float` | floating point numbers |\n",
    "| `string` | a sequence of text |\n",
    "\n",
    "There are also functions that allow for type conversion. For example, `int(argument)` would convert the input into the integer type."
   ]
  },
  {
   "cell_type": "code",
   "execution_count": null,
   "id": "ddbf3e7c-572b-4d5e-9955-6da7eda42bc6",
   "metadata": {},
   "outputs": [],
   "source": []
  },
  {
   "cell_type": "markdown",
   "id": "2a16ad21-8c76-4551-8b7d-2a9fe47a6aab",
   "metadata": {},
   "source": [
    "## Methods and examples of string methods"
   ]
  },
  {
   "cell_type": "markdown",
   "id": "ff1cbdf7-c1b2-41dc-9815-04faedaf856d",
   "metadata": {},
   "source": [
    "Objects have attributes and methods. Attributes represent some piece of information about the object. Methods allow you to do something with the object, and like functions they can accept inputs.\n",
    "\n",
    "Attribute syntax: `object_name.attribute_name`\n",
    "\n",
    "Method syntax: `object_name.method_name(arguments)`\n",
    "\n",
    "Strings are an object type where methods can be particularly useful. Documentation can be found here: https://www.w3schools.com/python/python_ref_string.asp. "
   ]
  },
  {
   "cell_type": "code",
   "execution_count": null,
   "id": "5cbde88e-48a3-4155-a35a-6d78d6a0d852",
   "metadata": {},
   "outputs": [],
   "source": []
  }
 ],
 "metadata": {
  "kernelspec": {
   "display_name": "Python 3 (ipykernel)",
   "language": "python",
   "name": "python3"
  },
  "language_info": {
   "codemirror_mode": {
    "name": "ipython",
    "version": 3
   },
   "file_extension": ".py",
   "mimetype": "text/x-python",
   "name": "python",
   "nbconvert_exporter": "python",
   "pygments_lexer": "ipython3",
   "version": "3.9.16"
  }
 },
 "nbformat": 4,
 "nbformat_minor": 5
}
