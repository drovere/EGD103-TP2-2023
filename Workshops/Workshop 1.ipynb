{
 "cells": [
  {
   "cell_type": "markdown",
   "id": "4f663ef1-d20c-4b70-84c7-4c33e8cb4fd9",
   "metadata": {},
   "source": [
    "# Workshop 1 - Introduction to Python Programming\n",
    "In this workshop, we explore introductory programming within a programming environment. We will be doing our programming online using Jupyterlab"
   ]
  },
  {
   "cell_type": "markdown",
   "id": "84169a55-aef2-46d5-a96c-edf889ecc455",
   "metadata": {},
   "source": [
    "## Evaluating Expressions\n",
    "We will start by typing some simple expressions into Python using mathematical operators.\n",
    "| Operator | Description |\n",
    "| ----------- | ----------- |\n",
    "| + | Addition |\n",
    "| - | Subtraction |\n",
    "| * | Multiplication |\n",
    "| / | Division |\n",
    "| // | Floored division |\n",
    "| ** | Exponentiation |\n",
    "| % | Remainder/modulus |\n",
    "\n",
    "In expressions with multiple operators, it is important for you to understand the order of operations. A full list for Python is provided here: https://docs.python.org/3/reference/expressions.html#evaluation-order. "
   ]
  },
  {
   "cell_type": "code",
   "execution_count": null,
   "id": "db8e8d9d-093d-4841-91df-9a28f9072dc7",
   "metadata": {},
   "outputs": [],
   "source": [
    "# subtraction example\n",
    "3 - 4"
   ]
  },
  {
   "cell_type": "code",
   "execution_count": null,
   "id": "188a217d-15c8-4eae-83ac-4f85b1ed8b0b",
   "metadata": {},
   "outputs": [],
   "source": [
    "# multiplication example\n",
    "4 * 2"
   ]
  },
  {
   "cell_type": "code",
   "execution_count": null,
   "id": "6d8ff1d1-7159-40ee-978b-a73b69e1e08a",
   "metadata": {},
   "outputs": [],
   "source": [
    "# exponentiation example\n",
    "5 ** 2"
   ]
  },
  {
   "cell_type": "markdown",
   "id": "103fc092-def3-469c-af9c-c837b5248fff",
   "metadata": {},
   "source": [
    "## Comments\n",
    "You may have noticed that the previous examples contained comments. Comments are sections of code that are not exectuted by a program. Their purpose is to be read by humans, and are helpful in making code easier to understand.\n",
    "\n",
    "In python, we comment by using the `#` symbol."
   ]
  },
  {
   "cell_type": "code",
   "execution_count": null,
   "id": "aecd38dc-b54f-424d-9f41-eb1906f46cbd",
   "metadata": {},
   "outputs": [],
   "source": [
    "# This is an example comment. Nothing will be output when running this, since it contains no Python commands."
   ]
  },
  {
   "cell_type": "markdown",
   "id": "2949b86f-b8fb-4282-b686-fc6f62d990f6",
   "metadata": {
    "tags": []
   },
   "source": [
    "## Calling functions\n",
    "A function is a named block of code that can be executed by supplying input information (called arguments).\n",
    "\n",
    "The general syntax for calling a function is: `function_name(argument)`. \n",
    "\n",
    "In the event a function has multiple inputs, they are separated by commas `function_name(argument1, argument2, ..., argumentN)`.\n",
    "\n",
    "Base Python has relatively few functions built in - only 68!. A full list can be found here: https://docs.python.org/3/library/functions.html.\n",
    "\n",
    "Some useful functions to get started with are given below.\n",
    "| Function | Description |\n",
    "| ----------- | ----------- |\n",
    "| `abs` | Finds the absolute value of the argument |\n",
    "| `round` | Rounds first argument |\n",
    "| `max` | Outputs the largest argument |\n",
    "| `min` | Outputs the smallest argument |\n",
    "| `sum` | Adds all arguments |\n",
    "| `print` | Prints object  |\n",
    "| `help` | Get help documentation for a function/module/class/method/keyword |\n"
   ]
  },
  {
   "cell_type": "code",
   "execution_count": null,
   "id": "4b51c1cd-de9c-4c3e-b1d7-4984b43bbf5f",
   "metadata": {},
   "outputs": [],
   "source": [
    "# example function call with 1 input\n",
    "abs(-10)"
   ]
  },
  {
   "cell_type": "code",
   "execution_count": null,
   "id": "0382d78b-e8a5-4eff-9661-d83991cc6eeb",
   "metadata": {},
   "outputs": [],
   "source": [
    "# example function call with multiple inputs\n",
    "max(5, 2, 3, 9, 0)"
   ]
  },
  {
   "cell_type": "code",
   "execution_count": null,
   "id": "f31e2983-8b92-4647-bc2d-aa689d042923",
   "metadata": {},
   "outputs": [],
   "source": [
    "# using the help function for insight on how to use the round function\n",
    "help(round)"
   ]
  },
  {
   "cell_type": "markdown",
   "id": "a8ea07b1-5f0c-4db6-827e-70e108d4b15b",
   "metadata": {
    "tags": []
   },
   "source": [
    "## Importing modules and examples using the math module\n",
    "We are able to gain access to more functions by importing modules. The syntax for importing a module is:\n",
    "`import module_name`\n",
    "\n",
    "Once imported, you can call functions within that module. The syntax for this is: `module_name.function_name(arguments)`.\n",
    "\n",
    "We will begin by looking at the `math` module. The math module contains the functions you'd expect to find on a scientific calculator, such as elementary functions (eg. $\\sin$, $\\cos$, $\\tan$, $\\exp$, $\\log$). Documentation is available here: https://docs.python.org/3/library/math.html."
   ]
  },
  {
   "cell_type": "code",
   "execution_count": null,
   "id": "7ab2fa69-c70a-428a-be07-0ca9620cfdfc",
   "metadata": {},
   "outputs": [],
   "source": [
    "import math"
   ]
  },
  {
   "cell_type": "code",
   "execution_count": null,
   "id": "3c95ea3b-3b88-48ee-a563-fe56cf99341a",
   "metadata": {},
   "outputs": [],
   "source": [
    "# Evaluating sin(45)\n",
    "math.sin(45)"
   ]
  },
  {
   "cell_type": "code",
   "execution_count": null,
   "id": "04fd29b8-6a6f-4d81-b558-97e84e56bb48",
   "metadata": {},
   "outputs": [],
   "source": [
    "# Is the argument in degrees or radians? We can look at the help documentation."
   ]
  },
  {
   "cell_type": "code",
   "execution_count": null,
   "id": "3b33adfc-b60f-480a-9359-7ec1267f3155",
   "metadata": {},
   "outputs": [],
   "source": [
    "# How can we convert between degrees and radians?"
   ]
  },
  {
   "cell_type": "markdown",
   "id": "4ccc9a21-92c7-4682-b16e-74bce853bc3e",
   "metadata": {
    "tags": []
   },
   "source": [
    "### Activity 1: Using Python as a calculator\n",
    "Try using Python and the math module to calculate the values for the following mathematical expressions.\n",
    "1. $\\sin^2(1) + \\cos^2(1)$\n",
    "2. $\\log_{10}(100)$\n",
    "3. $-3 + \\cfrac{\\sqrt{3^2 - 4 \\times 1 \\times 2}}{2 \\times 2}$"
   ]
  },
  {
   "cell_type": "code",
   "execution_count": null,
   "id": "6beb2c83-8552-4c12-b163-a89d506afc19",
   "metadata": {},
   "outputs": [],
   "source": [
    "# insert Q1 answer here"
   ]
  },
  {
   "cell_type": "code",
   "execution_count": null,
   "id": "41b6e22e-bb69-41ac-9f0d-a8a7476ea37d",
   "metadata": {},
   "outputs": [],
   "source": [
    "# insert Q2 answer here"
   ]
  },
  {
   "cell_type": "code",
   "execution_count": null,
   "id": "0971ed4f-4328-4cea-98bf-bdca377eb654",
   "metadata": {},
   "outputs": [],
   "source": [
    "# insert Q3 answer here"
   ]
  },
  {
   "cell_type": "markdown",
   "id": "ff5eaf8e-204f-423e-9a1d-3026fb1582ed",
   "metadata": {},
   "source": [
    "## Variables and assignment\n",
    "When programming, we usually use assignment statements. These use the assignment operator: `=`. The typical syntax for this is: `variable_name = expression`.\n",
    "\n",
    "Assignment statements are executed with two distinct steps:\n",
    "1. Evaluate the expression on the right to a value\n",
    "2. Assign that value to the variable name given on the left\n",
    "\n",
    "Once a variable is created this way, its name and value are stored and can be used in expressions. We will discuss assignment in more detail next week."
   ]
  },
  {
   "cell_type": "code",
   "execution_count": null,
   "id": "75320d50-83b7-495c-92a1-2b79ca666880",
   "metadata": {},
   "outputs": [],
   "source": [
    "# example containing assignment statements\n",
    "a = 3\n",
    "b = 10\n",
    "c = a + b\n",
    "print(c)"
   ]
  },
  {
   "cell_type": "markdown",
   "id": "46d39385-0edc-444e-a9fe-bdd415617d36",
   "metadata": {},
   "source": [
    "If you refer to a name with no value assigned to it, you will get an error."
   ]
  },
  {
   "cell_type": "code",
   "execution_count": null,
   "id": "c0efc8ac-5d17-4b96-9233-903ebebbbac3",
   "metadata": {},
   "outputs": [],
   "source": [
    "a + d"
   ]
  },
  {
   "cell_type": "markdown",
   "id": "5a258650-402a-4334-92c7-92b9d410f26a",
   "metadata": {},
   "source": [
    "## Errors\n",
    "When programming, you are bound to make errors at some point. It is important that you are able to troubleshoot your code to identify and remove these errors. There are two types of errors: syntax errors and semantic errors.\n",
    "\n",
    "Syntax errors: caused when code does not abide by the rules of the language\n",
    "\n",
    "Semantic errors: caused when code gives incorrect intructions\n",
    "\n",
    "Python will pick up syntax errors for you. Semantic errors will often go undetected, so it important to have sound practices in place to help detect semantic errors (eg. using test cases to verify whether your code can perform tasks correctly)."
   ]
  },
  {
   "cell_type": "code",
   "execution_count": null,
   "id": "ecd76e70-f9bf-4fc9-8c79-04dd612ff9e5",
   "metadata": {},
   "outputs": [],
   "source": [
    "# Syntax error example\n",
    "cos(2)"
   ]
  },
  {
   "cell_type": "code",
   "execution_count": null,
   "id": "1f4e8ff6-0194-40fd-9396-f63ebe53dcad",
   "metadata": {},
   "outputs": [],
   "source": [
    "# Semantic error example for the quadratic formula\n",
    "a = 3\n",
    "b = 6\n",
    "c = 3\n",
    "root1 = -b - math.sqrt(b ** 2 - 4 * a * c) / 2 * a # incorrect order of operations\n",
    "print(root1)"
   ]
  },
  {
   "cell_type": "markdown",
   "id": "af0480cc-b6b8-476e-8433-011b9bccfd32",
   "metadata": {},
   "source": [
    "### Activity 2: Errors\n",
    "Run the code cells below. Based on the output, try to explain why the error is occuring."
   ]
  },
  {
   "cell_type": "code",
   "execution_count": null,
   "id": "f37921ab-6a24-4ca4-acb2-b58d00f211c4",
   "metadata": {},
   "outputs": [],
   "source": [
    "6 / (5 * 2 - 10)"
   ]
  },
  {
   "cell_type": "code",
   "execution_count": null,
   "id": "3dfd759b-4a39-4f63-a1e2-e0555450aa71",
   "metadata": {},
   "outputs": [],
   "source": [
    "5 + '1'"
   ]
  },
  {
   "cell_type": "markdown",
   "id": "f2f379e5-878f-4055-a010-144e8fd9dc73",
   "metadata": {},
   "source": [
    "## Object types\n",
    "Each object created in Python has a type associated with it. The type of an object can be found with `type(object_name)`. This week we look at the three types below. As the semester progresses, you will be introduced to more types such as booleans, lists, Numpy arrays and Pandas dataframes.\n",
    "\n",
    "| Type | Description |\n",
    "| ----------- | ----------- |\n",
    "| `int` | integers |\n",
    "| `float` | floating point numbers |\n",
    "| `string` | a sequence of text |\n",
    "\n",
    "For example, we see below three ways of describing the number 5. Each of these has a different type associated with it."
   ]
  },
  {
   "cell_type": "code",
   "execution_count": null,
   "id": "ddbf3e7c-572b-4d5e-9955-6da7eda42bc6",
   "metadata": {},
   "outputs": [],
   "source": [
    "type(5)"
   ]
  },
  {
   "cell_type": "code",
   "execution_count": null,
   "id": "10555c5d-9cc3-4a23-b20b-54aecc02046b",
   "metadata": {},
   "outputs": [],
   "source": [
    "type(5.0)"
   ]
  },
  {
   "cell_type": "code",
   "execution_count": null,
   "id": "97750526-1810-4c9a-8897-149283409b8a",
   "metadata": {},
   "outputs": [],
   "source": [
    "type('5')"
   ]
  },
  {
   "cell_type": "markdown",
   "id": "c27e43b5-8112-435a-af01-244f80b05907",
   "metadata": {},
   "source": [
    "Why is an object's type so important? An objects type will influence how Python interprets and operates on the object."
   ]
  },
  {
   "cell_type": "code",
   "execution_count": null,
   "id": "f6ca6e71-4bef-4c33-a903-185805a1e597",
   "metadata": {},
   "outputs": [],
   "source": [
    "5 + 1"
   ]
  },
  {
   "cell_type": "code",
   "execution_count": null,
   "id": "adeaa400-1f43-4276-9c87-ff2b5bfad74b",
   "metadata": {},
   "outputs": [],
   "source": [
    "'5' + '1'"
   ]
  },
  {
   "cell_type": "markdown",
   "id": "202ec581-67cc-4f17-9be2-b2f658a025f0",
   "metadata": {},
   "source": [
    "When you have an expression containing mixed numeric types (eg. floats and integers), the operand with the narrower type will be widened to that ot the other."
   ]
  },
  {
   "cell_type": "code",
   "execution_count": null,
   "id": "2af40f5f-4eb0-4f66-bb73-c9c6735afa71",
   "metadata": {},
   "outputs": [],
   "source": [
    "a = 5 # an integer\n",
    "b = 1.0 # a float\n",
    "c = a + b\n",
    "print(c)"
   ]
  },
  {
   "cell_type": "code",
   "execution_count": null,
   "id": "ce08b25e-b1f7-4e8f-956e-6925a252a2dc",
   "metadata": {},
   "outputs": [],
   "source": [
    "type(c) # has the wider type, which is a float"
   ]
  },
  {
   "cell_type": "markdown",
   "id": "72b58cb4-5efe-4fa1-83ad-0b3d1deb812b",
   "metadata": {},
   "source": [
    "A Python variable can be used to store a value of any type. The stored value has a type, but the variable does not. This is because Python is a dynamically-typed language."
   ]
  },
  {
   "cell_type": "code",
   "execution_count": null,
   "id": "4fac4d45-b50b-49db-b7ea-a0e33c8ca341",
   "metadata": {},
   "outputs": [],
   "source": [
    "type(a)"
   ]
  },
  {
   "cell_type": "code",
   "execution_count": null,
   "id": "17e5fb10-9aff-4533-95f2-7a6e59029f6d",
   "metadata": {},
   "outputs": [],
   "source": [
    "a = 5.2\n",
    "type(a)"
   ]
  },
  {
   "cell_type": "markdown",
   "id": "183dbf26-102e-4aec-94c1-8dd11cde247f",
   "metadata": {},
   "source": [
    "### Activity 3:  "
   ]
  },
  {
   "cell_type": "markdown",
   "id": "8ee8ecf2-5e7a-4f06-92e0-127ae16da074",
   "metadata": {},
   "source": [
    "Use the type function to find the type of each of the following objects. These contain examples of data types we will be learning about in weeks 1-6.\n",
    "* 3\n",
    "* 5.2\n",
    "* 1 + 2j\n",
    "* 'hello world'\n",
    "* print\n",
    "* None\n",
    "* True\n",
    "* [1, 2, 3, 4]\n",
    "* (1, 2, 3, 4)\n",
    "* {1, 2, 3, 4}\n",
    "* {'EGD103': 'Computing and Data for Engineers', 'EGD120': 'Foundations of Electrical Engineering'}"
   ]
  },
  {
   "cell_type": "code",
   "execution_count": null,
   "id": "7a7c9f96-b2a6-41aa-ad8e-88305460381f",
   "metadata": {},
   "outputs": [],
   "source": []
  }
 ],
 "metadata": {
  "kernelspec": {
   "display_name": "Python 3 (ipykernel)",
   "language": "python",
   "name": "python3"
  },
  "language_info": {
   "codemirror_mode": {
    "name": "ipython",
    "version": 3
   },
   "file_extension": ".py",
   "mimetype": "text/x-python",
   "name": "python",
   "nbconvert_exporter": "python",
   "pygments_lexer": "ipython3",
   "version": "3.10.12"
  }
 },
 "nbformat": 4,
 "nbformat_minor": 5
}
