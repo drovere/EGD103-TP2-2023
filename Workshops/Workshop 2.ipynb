{
 "cells": [
  {
   "cell_type": "markdown",
   "id": "eb2a7136",
   "metadata": {},
   "source": [
    "# Workshop 2 - Variables, User Defined Functions and Programming Best Practices"
   ]
  },
  {
   "cell_type": "markdown",
   "id": "3b555cec",
   "metadata": {},
   "source": [
    "## Variables and Assignment\n",
    "Recall from last week that we can assign a value to a variable name with the syntax: `variable_name = expression`. This week we will explore assignment statements in more detail."
   ]
  },
  {
   "cell_type": "markdown",
   "id": "2ac97d7f-fbd3-4bca-98bc-0faedeb2cfb6",
   "metadata": {},
   "source": [
    "### Variable Naming\n",
    "\n",
    "There are certain rules regarding variable names in Python.\n",
    "1. Names can only contain letters, numbers and/or underscores (eg. cannot contain spaces)\n",
    "2. Name cannot start with a number\n",
    "3. Cannot have the same name as a Python keyword. A lsit is available here: https://docs.python.org/3/reference/lexical_analysis.html#identifiers \n",
    "4. Names are case sensitive\n"
   ]
  },
  {
   "cell_type": "code",
   "execution_count": 1,
   "id": "d8bdfa52",
   "metadata": {},
   "outputs": [],
   "source": [
    "# valid variable names\n",
    "a = 1\n",
    "EGD103_is_fun = 2\n",
    "_hello = 3\n",
    "\n",
    "# invalid variable names\n",
    "# 2a = 4\n",
    "# EGD103 is fun = 5\n",
    "# break = 6\n"
   ]
  },
  {
   "cell_type": "markdown",
   "id": "4a3b7c3b-de24-435b-849d-eee4d340ed57",
   "metadata": {},
   "source": [
    "## Variable Characteristics\n",
    "We will be using variables throughout the unit, so it imperative that we understand all of their characteristics. \n",
    "\n",
    "1. A variable acts as a container for only one value."
   ]
  },
  {
   "cell_type": "code",
   "execution_count": 1,
   "id": "a335b6a8-0e44-44fa-86b3-10eeb3be9158",
   "metadata": {
    "tags": []
   },
   "outputs": [],
   "source": [
    "# Storing one value in the variable a\n",
    "a = 5\n",
    "\n",
    "# A value doesn't neccessarilly contain one number.\n",
    "# The list below is a single value that contains two numbers.\n",
    "b = [5, 10] "
   ]
  },
  {
   "cell_type": "markdown",
   "id": "c2ab9a65-e626-45a9-8c07-d368a85c4717",
   "metadata": {},
   "source": [
    "2. When a variable is used in an expression, Python will use the value that is stored in the variable. If there is no value stored in the variable, you will get a syntax error."
   ]
  },
  {
   "cell_type": "code",
   "execution_count": 3,
   "id": "5c715e52-260b-4a55-b623-57e23752d85a",
   "metadata": {
    "tags": []
   },
   "outputs": [
    {
     "data": {
      "text/plain": [
       "15"
      ]
     },
     "execution_count": 3,
     "metadata": {},
     "output_type": "execute_result"
    }
   ],
   "source": [
    "# example expression\n",
    "a + 10"
   ]
  },
  {
   "cell_type": "code",
   "execution_count": 4,
   "id": "64801b9d-c72a-4f87-8036-6c384935dbe9",
   "metadata": {
    "tags": []
   },
   "outputs": [
    {
     "ename": "NameError",
     "evalue": "name 'c' is not defined",
     "output_type": "error",
     "traceback": [
      "\u001b[0;31m---------------------------------------------------------------------------\u001b[0m",
      "\u001b[0;31mNameError\u001b[0m                                 Traceback (most recent call last)",
      "Cell \u001b[0;32mIn[4], line 2\u001b[0m\n\u001b[1;32m      1\u001b[0m \u001b[38;5;66;03m# example expression returning an error\u001b[39;00m\n\u001b[0;32m----> 2\u001b[0m \u001b[43mc\u001b[49m \u001b[38;5;241m+\u001b[39m \u001b[38;5;241m10\u001b[39m\n",
      "\u001b[0;31mNameError\u001b[0m: name 'c' is not defined"
     ]
    }
   ],
   "source": [
    "# example expression returning an error\n",
    "c + 10"
   ]
  },
  {
   "cell_type": "markdown",
   "id": "e6b71c35-11d6-4232-a679-2164861722f3",
   "metadata": {},
   "source": [
    "3. When you assign a value to a variable that is already storing a value, the new value replaces the old value. This is called overwriting the variable."
   ]
  },
  {
   "cell_type": "code",
   "execution_count": 5,
   "id": "3acad377-cad1-4a31-94b9-425dbba1d0dc",
   "metadata": {
    "tags": []
   },
   "outputs": [
    {
     "name": "stdout",
     "output_type": "stream",
     "text": [
      "5\n",
      "3\n"
     ]
    }
   ],
   "source": [
    "print(a)\n",
    "a = a - 2\n",
    "print(a)"
   ]
  },
  {
   "cell_type": "markdown",
   "id": "aa4cba86-587c-470c-ade8-93029a253b1d",
   "metadata": {},
   "source": [
    "4. A python variable can store any type of value. The object type is attached to the value and not the variable."
   ]
  },
  {
   "cell_type": "code",
   "execution_count": 6,
   "id": "05b0c1bf-a928-4c86-a9f1-0ff463ac5885",
   "metadata": {
    "tags": []
   },
   "outputs": [
    {
     "name": "stdout",
     "output_type": "stream",
     "text": [
      "<class 'int'>\n"
     ]
    }
   ],
   "source": [
    "type(a)"
   ]
  },
  {
   "cell_type": "code",
   "execution_count": 13,
   "id": "c247141d-0f99-4861-a958-827ed333cf41",
   "metadata": {
    "tags": []
   },
   "outputs": [
    {
     "data": {
      "text/plain": [
       "str"
      ]
     },
     "execution_count": 13,
     "metadata": {},
     "output_type": "execute_result"
    }
   ],
   "source": [
    "a = 'hello'\n",
    "type(a)"
   ]
  },
  {
   "cell_type": "markdown",
   "id": "43740912-ac74-4e49-99eb-0d39c60970ff",
   "metadata": {},
   "source": [
    "5. When a variable is assigned to another variable, they don't just have the same value. They become two different names for the same object. "
   ]
  },
  {
   "cell_type": "code",
   "execution_count": 14,
   "id": "2d5f3ac8-3f75-4c8a-bd67-f34d5cc410d5",
   "metadata": {
    "tags": []
   },
   "outputs": [
    {
     "data": {
      "text/plain": [
       "True"
      ]
     },
     "execution_count": 14,
     "metadata": {},
     "output_type": "execute_result"
    }
   ],
   "source": [
    "b = a\n",
    "a is b"
   ]
  },
  {
   "cell_type": "markdown",
   "id": "8c261c87-f7b8-420f-959c-510dfc0a0648",
   "metadata": {},
   "source": [
    "### Special Assignment Operators\n",
    "We have learn that the = sign is the assignment operator. Python also contains some other assignment operators that can be used to update value assigned to a variable."
   ]
  },
  {
   "cell_type": "code",
   "execution_count": 2,
   "id": "6e58df7e",
   "metadata": {},
   "outputs": [
    {
     "name": "stdout",
     "output_type": "stream",
     "text": [
      "7\n",
      "9\n",
      "1\n",
      "3\n",
      "1\n",
      "2\n",
      "1.0\n",
      "1.0\n"
     ]
    }
   ],
   "source": [
    "# other assignment operators\n",
    "print(a)\n",
    "a += 2 # a = a + 2\n",
    "print(a)\n",
    "\n",
    "a -= 2 # a = a - 2\n",
    "print(a)\n",
    "\n",
    "a *= 2 # a = a * 2\n",
    "print(a)\n",
    "\n",
    "a /= 2 # a = a / 2\n",
    "print(a)\n",
    "\n",
    "a **= 2 # a = a ** 2\n",
    "print(a)"
   ]
  },
  {
   "cell_type": "markdown",
   "id": "f92f4b1d",
   "metadata": {},
   "source": [
    "## Tracing and Debugging\n",
    "One way we can monitor the value of each variable is by tracing the code. In this process, we manually record the value of each variable in a table after executing each line of code.\n",
    "\n",
    "Another way we can monitor this is by using the debugging tool. This allows us to access a variable explorer and add breakpoints in our code, so that it can be run one line at a time, or in small chunks."
   ]
  },
  {
   "cell_type": "code",
   "execution_count": 3,
   "id": "0f7f9644",
   "metadata": {},
   "outputs": [],
   "source": [
    "# scoring an NRL game\n",
    "CONVERTED_TRY = 6\n",
    "TRY = 4\n",
    "\n",
    "# start of game\n",
    "dolphins_score = 0\n",
    "roosters_score = 0\n",
    "\n",
    "# during game\n",
    "roosters_score += CONVERTED_TRY\n",
    "dolphins_score += CONVERTED_TRY\n",
    "roosters_score += CONVERTED_TRY\n",
    "dolphins_score += CONVERTED_TRY\n",
    "dolphins_score += CONVERTED_TRY\n",
    "dolphins_score += CONVERTED_TRY\n",
    "dolphins_score += TRY\n",
    "roosters_score += CONVERTED_TRY"
   ]
  },
  {
   "cell_type": "markdown",
   "id": "f1524f74",
   "metadata": {},
   "source": [
    "## User Defined Functions\n",
    "Last week you used in-built functions, which could allow you to easily perform tasks by running pre-written blocks of code. In-built functions generally only exist for quite common or general tasks. In the event you are working on a more specific tasks, you may want to create your own function.\n",
    "\n",
    "The syntax for creating a function is:\n",
    "\n",
    "```python\n",
    "def function_name(arguments):  \n",
    "    function_body\n",
    "    return function_outputs\n",
    "```\n",
    "    \n",
    "Once the function has been created, you can call the functions just like an in-built function.\n",
    "\n",
    "```python\n",
    "function_name(arguments)\n",
    "```"
   ]
  },
  {
   "cell_type": "code",
   "execution_count": null,
   "id": "e2051201-8c50-41e7-868c-43457a5cf4df",
   "metadata": {},
   "outputs": [],
   "source": [
    "# eg. let's create a function that solves the roots of a quadratic"
   ]
  },
  {
   "cell_type": "code",
   "execution_count": 15,
   "id": "1fadd7a0",
   "metadata": {},
   "outputs": [],
   "source": [
    "# eg. let's create a function that adds two forces together"
   ]
  },
  {
   "cell_type": "markdown",
   "id": "1c666d9b",
   "metadata": {},
   "source": [
    "## Programming Best Practices\n",
    "### Practice 1: Code is clear and maintainable\n",
    "Your code should be easy to understand. This is achieved by:\n",
    "* Using meaningful variable names\n",
    "* Commenting when appropriate\n",
    "* Using consistent naming conventions. For example, you can name variables with lower-case letters and underscores, and constants with capital letters.\n",
    "\n",
    "\n",
    "### Practice 2: Don't repeat yourself\n",
    "You should avoid using the same blocks of code over and over again in your program. In the event you would like to perform a task multiple times, you should create a function for it!\n",
    "\n",
    "\n",
    "### Practice 3: Simple algorithms\n",
    "If there are multiple ways to solve a problem, the simpler solution is better. This is achieved by:\n",
    "* Plan out your solution strategy (algorithm) before writing your code. Try to make is as simple as possible - don't just settle for the first idea that comes to mind.\n",
    "* Use in-built functions wherever possible\n",
    "* Avoid redundant lines of code\n",
    "\n",
    "### Practice 4: Thoroughly test your code\n",
    "When creating your own functions, you want to test that they work correctly. Try testing them against a large set of test cases to see if they are functioning correctly.\n"
   ]
  }
 ],
 "metadata": {
  "kernelspec": {
   "display_name": "Python 3 (ipykernel)",
   "language": "python",
   "name": "python3"
  },
  "language_info": {
   "codemirror_mode": {
    "name": "ipython",
    "version": 3
   },
   "file_extension": ".py",
   "mimetype": "text/x-python",
   "name": "python",
   "nbconvert_exporter": "python",
   "pygments_lexer": "ipython3",
   "version": "3.10.12"
  }
 },
 "nbformat": 4,
 "nbformat_minor": 5
}
