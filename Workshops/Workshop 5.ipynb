{
 "cells": [
  {
   "cell_type": "markdown",
   "id": "57d383b6-a7b4-4067-b7c2-7d222310c5f1",
   "metadata": {},
   "source": [
    "## For Loop Recap (week 4 content)\n",
    "The for statement allows us to repeat actions a fixed number of times.\n",
    "\n",
    "The general syntax is:\n",
    "```python\n",
    "for element in sequence:\n",
    "    for_loop_body\n",
    "```\n",
    "\n",
    "The for loop will iterate through the block of code in the for loop body for each element of the sequence - one at a time. \n",
    "\n",
    "Iteration 1: `element = sequence[0]`\n",
    "\n",
    "Iteration 2: `element = sequence[1]`\n",
    "\n",
    "Iteration 3: `element = sequence[2]`\n",
    "\n",
    "...\n",
    "\n",
    "Final Iteration: `element = sequence[-1]`\n",
    "\n",
    "The number of iterations is equal to the length of the sequence.\n",
    "\n",
    "If you want to iterate through index values, it is common to use a range as the sequence. \n",
    "eg. the for loop below will iterate n times using the first n index values 0, 1, 2, ..., n-1.\n",
    "```python\n",
    "for index in range(n):\n",
    "    for_loop_body\n",
    "```"
   ]
  },
  {
   "cell_type": "code",
   "execution_count": null,
   "id": "0a130fab-8d28-4b61-b466-87e015edf580",
   "metadata": {},
   "outputs": [],
   "source": [
    "# example: create an equivalent resistance function that can accept a list of resistors, \n",
    "# and the connection type ('series' pr 'parallel'). It outputs the equivalent resistance."
   ]
  },
  {
   "cell_type": "markdown",
   "id": "9e767495-6d0d-4673-aacf-489cff9ab5b6",
   "metadata": {},
   "source": [
    "# While Loops\n",
    "A while loop will continue to iterate through a block of code while its corresponding expression is true. They are useful when the number of iterations is conditional (as opposed to pre-determined like a for loop). This makes them particularly useful for numerical methods, which iterate until the solution converges or reaches a certain degree of accuracy.\n",
    "\n",
    "The general syntax for a while loop is:\n",
    "```python\n",
    "while logical_expression:\n",
    "    while_loop_body\n",
    "```\n",
    "where the `logical_expression` is an expression that compares values and returns `True` or `False` (you used these in if statements!).\n",
    "\n",
    "Some caution must be taken with while loops. If the logical expression always returns true, the while loop will iterate infinitely."
   ]
  },
  {
   "cell_type": "code",
   "execution_count": null,
   "id": "e8035c71-7109-4a28-8833-5439eef9be24",
   "metadata": {},
   "outputs": [],
   "source": [
    "# Example: Newton-Raphson Method\n",
    "# The Newton-Raphson method is used to numerically solve roots of a function. \n",
    "# The process is repeated until the function is sufficiently close to zero\n",
    "\n",
    "import math\n",
    "\n",
    "def example_function(x):\n",
    "    return x ** 2 + 5 * x + 6\n",
    "\n",
    "def example_derivative(x):\n",
    "    return 2 * x + 5\n",
    "\n",
    "# create a function that iterates through the Newton-Raphson method\n",
    "def newton_raphson(function, derivative, x0):\n",
    "    pass\n",
    "\n",
    "newton_raphson(example_function, example_derivative, -1000)"
   ]
  },
  {
   "cell_type": "markdown",
   "id": "6ffe3160-0bc2-4222-b6b3-4a306ce10887",
   "metadata": {},
   "source": [
    "# break and continue\n",
    "`break` and `continue` are two key words which are useful when working with loops. \n",
    "\n",
    "`break` allows early termination of a loop.\n",
    "\n",
    "`continue` allows you to skip to the next iteration of a loop."
   ]
  },
  {
   "cell_type": "code",
   "execution_count": null,
   "id": "18c12936-dbd4-4ecf-a739-19861487dade",
   "metadata": {},
   "outputs": [],
   "source": [
    "# examples: "
   ]
  },
  {
   "cell_type": "markdown",
   "id": "e388f8fe-9a67-4ece-b2fb-3d964ec873a6",
   "metadata": {},
   "source": [
    "# Nested Loops\n",
    "A nested loop refers to when one loop is placed inside another. A generic example of a nested for loop is given below.\n",
    "```python\n",
    "for values in outer_sequence:\n",
    "    for other_values in inner_sequence:\n",
    "        for_loop_body\n",
    "\n",
    "```\n",
    "For each iteration of the outer sequence, the inner sequence will iterate through all of its values. This means that the total number of iterations is `len(outer_sequence) * len(inner_sequence)`. Nested loops are typically used when working with 2-dimensional arrangements of data (eg. representing a matrix as a list of lists).\n",
    "\n",
    "\n"
   ]
  },
  {
   "cell_type": "code",
   "execution_count": null,
   "id": "0acff66d-6e5c-45fd-9639-c4c7492b94c2",
   "metadata": {},
   "outputs": [],
   "source": [
    "# example: write a function that finds the largest value in a list of lists."
   ]
  },
  {
   "cell_type": "markdown",
   "id": "a25db4ad-63aa-424e-b749-6583a0a87748",
   "metadata": {},
   "source": []
  }
 ],
 "metadata": {
  "kernelspec": {
   "display_name": "Python 3 (ipykernel)",
   "language": "python",
   "name": "python3"
  },
  "language_info": {
   "codemirror_mode": {
    "name": "ipython",
    "version": 3
   },
   "file_extension": ".py",
   "mimetype": "text/x-python",
   "name": "python",
   "nbconvert_exporter": "python",
   "pygments_lexer": "ipython3",
   "version": "3.10.12"
  }
 },
 "nbformat": 4,
 "nbformat_minor": 5
}
