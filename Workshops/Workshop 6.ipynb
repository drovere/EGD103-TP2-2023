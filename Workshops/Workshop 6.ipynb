{
 "cells": [
  {
   "cell_type": "markdown",
   "id": "b18e2612-230a-4037-bf77-01d286ea4366",
   "metadata": {},
   "source": [
    "# Workshop 6: Strings, Sets and Dictionaries"
   ]
  },
  {
   "cell_type": "markdown",
   "id": "45c55fcf-05e5-4f88-a667-58a4292670f4",
   "metadata": {},
   "source": [
    "## Strings\n",
    "Strings are a sequence of characters used to form a piece of text. You can create a string with single quotes 'example string' or double quotes \"another example string\". A multi-line quote is created by using three quotes.\n",
    "* Since they are a sequence type, you can apply sequence operations, index, slice, and iterate through each character with a for loop\n",
    "* String methods allow for text to be processed easily\n",
    "* Can use the input function to ask the user for an input\n",
    "* Can use a formatted string to clearly communicate messages to the user\n",
    "\n",
    "More details can be found here: https://docs.python.org/3/library/stdtypes.html#text-sequence-type-str"
   ]
  },
  {
   "cell_type": "code",
   "execution_count": null,
   "id": "e95a4a8c-03b5-439b-956d-78b61d763c93",
   "metadata": {},
   "outputs": [],
   "source": [
    "# examples"
   ]
  },
  {
   "cell_type": "markdown",
   "id": "b0bdac36-5479-4daf-ba6b-8a0d35a52786",
   "metadata": {},
   "source": [
    "## Sets\n",
    "A set is an unordered collection of data where each value is unique. Sets are mutable, so you can change the values stored in a set. A set can be created with curly braces eg. {1, 2, 3} or with the set function.\n",
    "* Cannot index since a set is unordered\n",
    "* Can iterate through a set with a for loop\n",
    "* Offer a convenient way to remove duplicate entries from a list - just convert it to a set!\n",
    "* Give access to set operations like intersection and union\n",
    "\n",
    "More details can be found here: https://docs.python.org/3/library/stdtypes.html#set-types-set-frozenset"
   ]
  },
  {
   "cell_type": "code",
   "execution_count": null,
   "id": "2d7d65a4-7a96-480a-b13f-4c50ab2ea698",
   "metadata": {},
   "outputs": [],
   "source": [
    "# examples"
   ]
  },
  {
   "cell_type": "markdown",
   "id": "1608d2ea-7a63-4583-bff0-07793f9a7faf",
   "metadata": {},
   "source": [
    "## Dictionaries\n",
    "A dictionary is a set of key : value pairs. The key serves as some unique identifier, and the value provides some information associated with that key. You can create a dictionary with curly braces.\n",
    "* Dictionaries use a named index (the key name) rather than a positional index.\n",
    "* Ordered based on when entry was added to dictionary.\n",
    "* Can use the keys method to access dictionary keys, the values method to access dictionary values, and the items method to access both.\n",
    "* Can iterate through the keys or values (or both) with a for loop.\n",
    "* A good way to represent data or physical objects.\n",
    "\n",
    "More details can be found here: https://docs.python.org/3/library/stdtypes.html#mapping-types-dict"
   ]
  },
  {
   "cell_type": "code",
   "execution_count": null,
   "id": "061a2fd6-c489-4bae-8dac-7e17d0feb945",
   "metadata": {},
   "outputs": [],
   "source": [
    "# examples"
   ]
  }
 ],
 "metadata": {
  "kernelspec": {
   "display_name": "Python 3 (ipykernel)",
   "language": "python",
   "name": "python3"
  },
  "language_info": {
   "codemirror_mode": {
    "name": "ipython",
    "version": 3
   },
   "file_extension": ".py",
   "mimetype": "text/x-python",
   "name": "python",
   "nbconvert_exporter": "python",
   "pygments_lexer": "ipython3",
   "version": "3.10.12"
  }
 },
 "nbformat": 4,
 "nbformat_minor": 5
}
