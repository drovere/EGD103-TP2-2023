{
 "cells": [
  {
   "cell_type": "markdown",
   "id": "27ef9302-d108-446b-bd76-8244d62df4cf",
   "metadata": {},
   "source": [
    "# Tester cell for markdown\n",
    "\n",
    "## maths equation\n",
    "$e = mc^2$\n",
    "\n",
    "## create an order lists\n",
    "1. Welcome to EGD103\n",
    "2. Make sure you read all the eContent before class every week\n",
    "2. There are tutorial exercises to complete each week - in JupyterLab\n",
    "\n",
    "## create an unordered list (bulleted)\n",
    "- put something here\n",
    "- put something else here\n"
   ]
  },
  {
   "cell_type": "code",
   "execution_count": 1,
   "id": "95212477-b13e-45a9-bf49-dd31af85d306",
   "metadata": {},
   "outputs": [
    {
     "data": {
      "text/plain": [
       "6.0"
      ]
     },
     "execution_count": 1,
     "metadata": {},
     "output_type": "execute_result"
    }
   ],
   "source": [
    "3 + 6\n",
    "12 / 2"
   ]
  },
  {
   "cell_type": "code",
   "execution_count": 2,
   "id": "e4059caf-59c5-44fa-a1ef-f10caa2b81dc",
   "metadata": {},
   "outputs": [],
   "source": [
    "# This is a comment"
   ]
  },
  {
   "cell_type": "code",
   "execution_count": 3,
   "id": "e6c313d3-90ae-462d-80a7-8c2f0b0aa08d",
   "metadata": {},
   "outputs": [
    {
     "data": {
      "text/plain": [
       "243"
      ]
     },
     "execution_count": 3,
     "metadata": {},
     "output_type": "execute_result"
    }
   ],
   "source": [
    "3 ** 5"
   ]
  },
  {
   "cell_type": "code",
   "execution_count": 4,
   "id": "604caaa6-76a4-451b-99e5-3f4cd6ca0af9",
   "metadata": {},
   "outputs": [
    {
     "data": {
      "text/plain": [
       "4"
      ]
     },
     "execution_count": 4,
     "metadata": {},
     "output_type": "execute_result"
    }
   ],
   "source": [
    "9 - 5"
   ]
  },
  {
   "cell_type": "code",
   "execution_count": 5,
   "id": "74e67e11-fc0f-418f-b8f5-38e43d33ccd5",
   "metadata": {},
   "outputs": [
    {
     "data": {
      "text/plain": [
       "2"
      ]
     },
     "execution_count": 5,
     "metadata": {},
     "output_type": "execute_result"
    }
   ],
   "source": [
    "9 // 4"
   ]
  },
  {
   "cell_type": "code",
   "execution_count": 6,
   "id": "041912ac-9a3a-4b93-9435-5c22d3893b18",
   "metadata": {},
   "outputs": [
    {
     "data": {
      "text/plain": [
       "0"
      ]
     },
     "execution_count": 6,
     "metadata": {},
     "output_type": "execute_result"
    }
   ],
   "source": [
    "# find the remainder after dividing 10 by 2\n",
    "10 % 2"
   ]
  },
  {
   "cell_type": "markdown",
   "id": "d7246dc3-5b6a-4fcf-bb25-9b713a7d7c71",
   "metadata": {},
   "source": [
    "Use the multiplication operator in an expression: $9 \\times 6$\n",
    "Force an expression to be displayed on the next line: $$9 \\times 6$$"
   ]
  },
  {
   "cell_type": "code",
   "execution_count": 7,
   "id": "052d31df-ce05-4a93-842b-743c7304e260",
   "metadata": {},
   "outputs": [
    {
     "data": {
      "text/plain": [
       "54"
      ]
     },
     "execution_count": 7,
     "metadata": {},
     "output_type": "execute_result"
    }
   ],
   "source": [
    "9 * 6"
   ]
  },
  {
   "cell_type": "markdown",
   "id": "334ac8eb-006f-47bf-b607-e4bb6955c1d5",
   "metadata": {},
   "source": [
    "Using the power operator to find: $4^3$"
   ]
  },
  {
   "cell_type": "code",
   "execution_count": 8,
   "id": "8826a148-1671-4ae3-86d0-290e6da64180",
   "metadata": {},
   "outputs": [
    {
     "data": {
      "text/plain": [
       "64"
      ]
     },
     "execution_count": 8,
     "metadata": {},
     "output_type": "execute_result"
    }
   ],
   "source": [
    "4 ** 3"
   ]
  },
  {
   "cell_type": "markdown",
   "id": "97de2f7c-fd8c-4135-a906-40ca3a87dbec",
   "metadata": {},
   "source": [
    "Find $6.67 \\times 10^{-11}$"
   ]
  },
  {
   "cell_type": "code",
   "execution_count": 9,
   "id": "3f9bd614-de6f-434d-901b-100ff88df268",
   "metadata": {},
   "outputs": [
    {
     "data": {
      "text/plain": [
       "6.67e-11"
      ]
     },
     "execution_count": 9,
     "metadata": {},
     "output_type": "execute_result"
    }
   ],
   "source": [
    "6.67e-11"
   ]
  },
  {
   "cell_type": "markdown",
   "id": "811f0b5b-0928-4826-a597-aaa97a391b4d",
   "metadata": {},
   "source": [
    "Calculate $2 \\times 10 ^ 3$"
   ]
  },
  {
   "cell_type": "code",
   "execution_count": 10,
   "id": "94b0f040-87fa-4e85-814e-39bd0de88a80",
   "metadata": {},
   "outputs": [
    {
     "data": {
      "text/plain": [
       "2000.0"
      ]
     },
     "execution_count": 10,
     "metadata": {},
     "output_type": "execute_result"
    }
   ],
   "source": [
    "2 * 10 ** 3\n",
    "2e3"
   ]
  },
  {
   "cell_type": "markdown",
   "id": "9dd310c3-e0c6-4d42-92e8-74dd66d89240",
   "metadata": {},
   "source": [
    "BOMDAS: \n",
    "- brackets\n",
    "- order (power; exp)\n",
    "- multiplication; division\n",
    "- addition; subtraction"
   ]
  },
  {
   "cell_type": "code",
   "execution_count": 11,
   "id": "a164a768-c152-4ea7-b960-dd3446e7113f",
   "metadata": {},
   "outputs": [
    {
     "data": {
      "text/plain": [
       "18"
      ]
     },
     "execution_count": 11,
     "metadata": {},
     "output_type": "execute_result"
    }
   ],
   "source": [
    "(4 + 2) * 3"
   ]
  },
  {
   "cell_type": "code",
   "execution_count": 12,
   "id": "9cea4bb1-3386-4ad5-9b88-26011231c593",
   "metadata": {},
   "outputs": [
    {
     "data": {
      "text/plain": [
       "5"
      ]
     },
     "execution_count": 12,
     "metadata": {},
     "output_type": "execute_result"
    }
   ],
   "source": [
    "int(3.4 + 2.3)"
   ]
  },
  {
   "cell_type": "code",
   "execution_count": 13,
   "id": "9f44d2aa-dc5b-4333-860c-c275e6cf4a4a",
   "metadata": {},
   "outputs": [
    {
     "data": {
      "text/plain": [
       "15.0"
      ]
     },
     "execution_count": 13,
     "metadata": {},
     "output_type": "execute_result"
    }
   ],
   "source": [
    "float(15)"
   ]
  },
  {
   "cell_type": "code",
   "execution_count": 14,
   "id": "5aeb8c7d-2e67-49b8-bb38-52100f3a0e89",
   "metadata": {},
   "outputs": [
    {
     "data": {
      "text/plain": [
       "6"
      ]
     },
     "execution_count": 14,
     "metadata": {},
     "output_type": "execute_result"
    }
   ],
   "source": [
    "round(3.4 + 2.3)"
   ]
  },
  {
   "cell_type": "code",
   "execution_count": 15,
   "id": "8ef8b89d-62da-47f5-ba53-81595924a2d1",
   "metadata": {},
   "outputs": [
    {
     "data": {
      "text/plain": [
       "4"
      ]
     },
     "execution_count": 15,
     "metadata": {},
     "output_type": "execute_result"
    }
   ],
   "source": [
    "round(4.5)"
   ]
  },
  {
   "cell_type": "code",
   "execution_count": 16,
   "id": "3b4b02c2-dd9a-4b26-b555-de672344b535",
   "metadata": {},
   "outputs": [
    {
     "data": {
      "text/plain": [
       "6"
      ]
     },
     "execution_count": 16,
     "metadata": {},
     "output_type": "execute_result"
    }
   ],
   "source": [
    "round(5.5)"
   ]
  },
  {
   "cell_type": "code",
   "execution_count": 17,
   "id": "10ff5fd8-90bb-4940-9d45-098a1c23702b",
   "metadata": {},
   "outputs": [
    {
     "data": {
      "text/plain": [
       "5.7"
      ]
     },
     "execution_count": 17,
     "metadata": {},
     "output_type": "execute_result"
    }
   ],
   "source": [
    "round(3.4 + 2.3, 2)"
   ]
  },
  {
   "cell_type": "code",
   "execution_count": 18,
   "id": "3c6723be-8ea3-4f65-a8ab-ae371863080c",
   "metadata": {},
   "outputs": [
    {
     "name": "stdout",
     "output_type": "stream",
     "text": [
      "Here is the result of calling the print and found functions:\n",
      "5.7\n"
     ]
    },
    {
     "data": {
      "text/plain": [
       "6.543"
      ]
     },
     "execution_count": 18,
     "metadata": {},
     "output_type": "execute_result"
    }
   ],
   "source": [
    "print('Here is the result of calling the print and found functions:')\n",
    "print(round(3.4 + 2.3, 2))\n",
    "round(6.54321, 3)"
   ]
  },
  {
   "cell_type": "markdown",
   "id": "4bd6717e-56f4-4c63-80a4-e438895fc195",
   "metadata": {},
   "source": [
    "Here we will import the math module in order to use some more functions"
   ]
  },
  {
   "cell_type": "code",
   "execution_count": 19,
   "id": "5b934c60-2a72-48cd-9f3a-ca3cdea27f7e",
   "metadata": {},
   "outputs": [
    {
     "data": {
      "text/plain": [
       "7"
      ]
     },
     "execution_count": 19,
     "metadata": {},
     "output_type": "execute_result"
    }
   ],
   "source": [
    "import math\n",
    "\n",
    "math.pi\n",
    "\n",
    "math.sqrt(9)\n",
    "math.sin(5)\n",
    "\n",
    "math.degrees(5)\n",
    "math.radians(5)\n",
    "math.cos(5)\n",
    "math.tan(5)\n",
    "\n",
    "math.floor(6.974)\n",
    "math.ceil(6.974)\n"
   ]
  },
  {
   "cell_type": "markdown",
   "id": "480a329b-8891-4e45-9c93-7009ccc459d6",
   "metadata": {},
   "source": [
    "\n",
    "$$ \\frac{-b + \\sqrt{b^2 - 4ac}}{2a} $$"
   ]
  },
  {
   "cell_type": "code",
   "execution_count": 20,
   "id": "211b0096-134f-46e9-a65e-99946228785e",
   "metadata": {},
   "outputs": [
    {
     "data": {
      "text/plain": [
       "-0.5505102572168221"
      ]
     },
     "execution_count": 20,
     "metadata": {},
     "output_type": "execute_result"
    }
   ],
   "source": [
    "import math\n",
    "\n",
    "# create the variables a, b and c\n",
    "a = 1\n",
    "b = 6\n",
    "c = 3\n",
    "\n",
    "(-b + math.sqrt(b ** 2 - 4 * a * c)) / (2 * a)"
   ]
  },
  {
   "cell_type": "markdown",
   "id": "24ed1325-5bc9-45c9-b67e-ff70cebd838b",
   "metadata": {},
   "source": [
    "Calculate the equivalent Fahrenheit value from a Celsius value\n",
    "\n",
    "Formula for calculating Fahrenheit is: $$ (C \\times \\frac{9}{5}) + 32)$$"
   ]
  },
  {
   "cell_type": "code",
   "execution_count": 21,
   "id": "d59714b6-8456-445a-bac8-fcf5a3df293e",
   "metadata": {},
   "outputs": [
    {
     "name": "stdout",
     "output_type": "stream",
     "text": [
      "The equivalent value of 34.5 degrees celsius is 94.1 degrees fahrenheit\n"
     ]
    }
   ],
   "source": [
    "# introduce a variable to store the Celsius value\n",
    "celsius = 34.5\n",
    "\n",
    "fahrenheit = celsius * (9 / 5) + 32\n",
    "#print(\"The equivalent value in fahrenheit is\", fahrenheit)\n",
    "print(\"The equivalent value of {} degrees celsius is {} degrees fahrenheit\".format(celsius, fahrenheit))\n"
   ]
  },
  {
   "cell_type": "markdown",
   "id": "d18453bc-e8b2-412b-8d1e-b828a0fa9883",
   "metadata": {},
   "source": [
    "Data Types"
   ]
  },
  {
   "cell_type": "code",
   "execution_count": 1,
   "id": "8785ea3c-dce7-4fbe-97a4-4ae13ef1ff2c",
   "metadata": {
    "tags": []
   },
   "outputs": [
    {
     "data": {
      "text/plain": [
       "int"
      ]
     },
     "execution_count": 1,
     "metadata": {},
     "output_type": "execute_result"
    }
   ],
   "source": [
    "type(-4)"
   ]
  },
  {
   "cell_type": "code",
   "execution_count": 2,
   "id": "5d64e7e3-8538-48ac-9b33-1c4d463339b0",
   "metadata": {
    "tags": []
   },
   "outputs": [
    {
     "data": {
      "text/plain": [
       "float"
      ]
     },
     "execution_count": 2,
     "metadata": {},
     "output_type": "execute_result"
    }
   ],
   "source": [
    "type(4.0)"
   ]
  },
  {
   "cell_type": "code",
   "execution_count": 4,
   "id": "c20ea9a5-6ef5-4877-a0a1-8b9ebbe6825f",
   "metadata": {
    "tags": []
   },
   "outputs": [
    {
     "data": {
      "text/plain": [
       "module"
      ]
     },
     "execution_count": 4,
     "metadata": {},
     "output_type": "execute_result"
    }
   ],
   "source": [
    "import math\n",
    "type(math)"
   ]
  },
  {
   "cell_type": "code",
   "execution_count": 6,
   "id": "989499c3-1761-4231-a5fd-1542d76e385c",
   "metadata": {
    "tags": []
   },
   "outputs": [
    {
     "data": {
      "text/plain": [
       "4"
      ]
     },
     "execution_count": 6,
     "metadata": {},
     "output_type": "execute_result"
    }
   ],
   "source": [
    "a = int(4.0)\n",
    "type(a)\n",
    "a"
   ]
  },
  {
   "cell_type": "code",
   "execution_count": null,
   "id": "aeb856f8-7e82-4ac5-955f-4172e06b1a63",
   "metadata": {},
   "outputs": [],
   "source": []
  }
 ],
 "metadata": {
  "kernelspec": {
   "display_name": "Python 3 (ipykernel)",
   "language": "python",
   "name": "python3"
  },
  "language_info": {
   "codemirror_mode": {
    "name": "ipython",
    "version": 3
   },
   "file_extension": ".py",
   "mimetype": "text/x-python",
   "name": "python",
   "nbconvert_exporter": "python",
   "pygments_lexer": "ipython3",
   "version": "3.10.12"
  }
 },
 "nbformat": 4,
 "nbformat_minor": 5
}
