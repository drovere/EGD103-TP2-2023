{
 "cells": [
  {
   "cell_type": "markdown",
   "id": "74ca8241-c08c-49d1-b0a4-1f97d54ce6ed",
   "metadata": {},
   "source": [
    "From Topic01:\n",
    "$$ \\frac{-b + \\sqrt{b^2 - 4ac}}{2a} $$"
   ]
  },
  {
   "cell_type": "code",
   "execution_count": 6,
   "id": "88c556f7-714b-4fc0-a6b4-b762a0ea7c36",
   "metadata": {},
   "outputs": [
    {
     "name": "stdout",
     "output_type": "stream",
     "text": [
      "1 6 3\n"
     ]
    }
   ],
   "source": [
    "import math\n",
    "\n",
    "# create the variables a, b and c\n",
    "a = 1\n",
    "b = 6\n",
    "c = 3\n",
    "\n",
    "print(a, b, c)\n",
    "# (-b + math.sqrt(b ** 2 - 4 * a * c)) / (2 * a)"
   ]
  },
  {
   "cell_type": "code",
   "execution_count": 1,
   "id": "f1de9e66-b1cd-4eef-84e8-15687b119403",
   "metadata": {},
   "outputs": [
    {
     "data": {
      "text/plain": [
       "6"
      ]
     },
     "execution_count": 1,
     "metadata": {},
     "output_type": "execute_result"
    }
   ],
   "source": [
    "# store this month's value in a variable\n",
    "# assume the current month is February\n",
    "month = 2\n",
    "month = 6\n",
    "month = month + 1\n",
    "month += 3 # equivalent to: month = month + 3\n",
    "month -= 9 # equivalent to: month = month - 9\n",
    "month *= 2 # equivalent to: month = month * 2\n",
    "month /= 2 # equivalent to: month = month / 2\n",
    "month = 12\n",
    "month //= 2 # equivalent to: month = month // 2\n",
    "month\n"
   ]
  },
  {
   "cell_type": "code",
   "execution_count": 2,
   "id": "f9173d30-f6b8-4404-81df-afd4e3b51083",
   "metadata": {},
   "outputs": [
    {
     "name": "stdout",
     "output_type": "stream",
     "text": [
      "10\n"
     ]
    },
    {
     "data": {
      "text/plain": [
       "NoneType"
      ]
     },
     "execution_count": 2,
     "metadata": {},
     "output_type": "execute_result"
    }
   ],
   "source": [
    "number = 7 + 3\n",
    "number\n",
    "result = print(number)\n",
    "type(result)"
   ]
  },
  {
   "cell_type": "code",
   "execution_count": 1,
   "id": "1b038688-ec7f-44df-932b-dd3eeb81b7a3",
   "metadata": {},
   "outputs": [],
   "source": [
    "alpha = 1\n",
    "beta = 3\n",
    "alpha = alpha + 1\n",
    "gamma = alpha + beta"
   ]
  },
  {
   "cell_type": "markdown",
   "id": "874cb942-9f20-4331-a899-0fb9db152419",
   "metadata": {},
   "source": [
    "Volume of a sphere: $\\frac{4}{3}\\pi 5^3 $"
   ]
  },
  {
   "cell_type": "code",
   "execution_count": 18,
   "id": "5ec12d6a-cc98-4745-9243-2bb4583f1baf",
   "metadata": {},
   "outputs": [
    {
     "name": "stdout",
     "output_type": "stream",
     "text": [
      "The volume of a sphere with a radius of 5 is 523.599\n"
     ]
    },
    {
     "data": {
      "text/plain": [
       "2341.533724475592"
      ]
     },
     "execution_count": 18,
     "metadata": {},
     "output_type": "execute_result"
    }
   ],
   "source": [
    "import math\n",
    "\n",
    "# calculate the volume of a sphere with a radius of 5\n",
    "4 / 3 * math.pi * 5 ** 3\n",
    "\n",
    "# calculate the volume of a sphere with a radius of 6\n",
    "4 / 3 * math.pi * 6 ** 3\n",
    "\n",
    "# calculate the volume of a sphere\n",
    "# given a radius\n",
    "def volume_of_sphere(radius):\n",
    "    \n",
    "    # function body\n",
    "    volume = 4 / 3 * math.pi * radius ** 3\n",
    "    return volume\n",
    "    \n",
    "radius = 5\n",
    "\n",
    "# make a call to the function\n",
    "print(\"The volume of a sphere with a radius of {} is {}\".format(radius, round(volume_of_sphere(radius), 3)))\n",
    "\n",
    "\n",
    "volume_of_sphere(6) + volume_of_sphere(7)"
   ]
  }
 ],
 "metadata": {
  "kernelspec": {
   "display_name": "Python 3 (ipykernel)",
   "language": "python",
   "name": "python3"
  },
  "language_info": {
   "codemirror_mode": {
    "name": "ipython",
    "version": 3
   },
   "file_extension": ".py",
   "mimetype": "text/x-python",
   "name": "python",
   "nbconvert_exporter": "python",
   "pygments_lexer": "ipython3",
   "version": "3.9.16"
  }
 },
 "nbformat": 4,
 "nbformat_minor": 5
}
